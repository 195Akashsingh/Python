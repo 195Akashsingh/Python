{
 "cells": [
  {
   "cell_type": "markdown",
   "metadata": {},
   "source": [
    "# LIST\n",
    "- indexed\n",
    "- ordered\n",
    "- mutable\n",
    "- can have duplicates\n",
    "- []\n",
    "- list()\n",
    "  \n",
    "\n",
    "# TUPLE\n",
    "- indexed\n",
    "- ordered \n",
    "- immutable\n",
    "- can have duplicates\n",
    "- ()\n",
    "- tuple\n",
    "\n",
    "\n",
    "# SET  \n",
    "- unindexed\n",
    "- unordered\n",
    "- mutable\n",
    "- cannot have duplicates\n",
    "- {}\n",
    "- set()\n",
    "\n",
    "\n",
    "# DICTIONARY\n",
    "- unindexed\n",
    "- ordered\n",
    "- mutable\n",
    "- key:value pair\n",
    "- immutable key\n",
    "- {key: value}\n",
    "- dict\n",
    "\n"
   ]
  },
  {
   "cell_type": "code",
   "execution_count": null,
   "metadata": {},
   "outputs": [],
   "source": [
    "# CREATING LIST\n",
    "x =[] # empty list\n",
    "a =[1, 2, 3, 4 ] # numeric list\n",
    "colors =['red','blue','green'] # string list\n",
    "mixed = [1,2,'red','green',[1, 2, 2]] # mixed list\n",
    "nested_list =[[1,2,3],[5,6,9]]\n",
    "print(a)"
   ]
  },
  {
   "cell_type": "code",
   "execution_count": null,
   "metadata": {},
   "outputs": [],
   "source": [
    "name ='Alexander'\n",
    "charlist = list(name)\n",
    "print(charlist)"
   ]
  },
  {
   "cell_type": "code",
   "execution_count": null,
   "metadata": {},
   "outputs": [],
   "source": [
    "colors *3"
   ]
  },
  {
   "cell_type": "code",
   "execution_count": null,
   "metadata": {},
   "outputs": [],
   "source": [
    "a + colors"
   ]
  },
  {
   "cell_type": "code",
   "execution_count": null,
   "metadata": {},
   "outputs": [],
   "source": [
    "colors =[\n",
    "    'red','green','blue','orange',\n",
    "        'yellow','pink','blace','white',\n",
    "        'brown','grey']\n",
    "len(colors)\n",
    "\n",
    "\n"
   ]
  },
  {
   "cell_type": "code",
   "execution_count": null,
   "metadata": {},
   "outputs": [],
   "source": [
    "print(colors[:5])\n",
    "print(colors[-3:])\n",
    "print(colors[::-1])\n",
    "colors[0]= \"Red\""
   ]
  },
  {
   "cell_type": "markdown",
   "metadata": {},
   "source": [
    "# TOTAL 11 METHODS IN A LIST  \n",
    "= to add\n",
    " 1.append()\n",
    " 2.extend()\n",
    " 3.insert\n",
    "= to remove\n",
    " 1.remove()\n",
    " 2.pop()\n",
    " 3.clear()\n",
    "= for utility\n",
    " 1.reverse()\n",
    " 2.sort()\n",
    " 3.copy()\n",
    " 4.count()\n",
    " 5.index()"
   ]
  },
  {
   "cell_type": "code",
   "execution_count": 22,
   "metadata": {},
   "outputs": [],
   "source": [
    "tvshows = []# empty list\n",
    "tvshows.append(\"chote bheem\") \n",
    "tvshows.append(\"ben 10\") \n",
    "tvshows.append(\"doremon\") \n",
    "\n",
    "\n"
   ]
  },
  {
   "cell_type": "code",
   "execution_count": 23,
   "metadata": {},
   "outputs": [],
   "source": [
    "show = input('enter a show name')\n",
    "tvshows.append(show)"
   ]
  },
  {
   "cell_type": "code",
   "execution_count": 24,
   "metadata": {},
   "outputs": [
    {
     "name": "stdout",
     "output_type": "stream",
     "text": [
      "['chote bheem', 'ben 10', 'doremon', 'ben 10']\n"
     ]
    }
   ],
   "source": [
    "print(tvshows)"
   ]
  },
  {
   "cell_type": "code",
   "execution_count": 26,
   "metadata": {},
   "outputs": [
    {
     "name": "stdout",
     "output_type": "stream",
     "text": [
      "['chote bheem', 'the office', 'friends', 'the office', 'friends', 'ben 10', 'doremon', 'ben 10']\n"
     ]
    }
   ],
   "source": [
    "tvshows.insert(1, 'the office')\n",
    "tvshows.insert(4, 'friends')\n",
    "print(tvshows)"
   ]
  },
  {
   "cell_type": "code",
   "execution_count": 27,
   "metadata": {},
   "outputs": [],
   "source": [
    "user_shows =input('Enter your favorite shows sepreate bt commas:')\n",
    "user_shows = user_shows.split(',')"
   ]
  },
  {
   "cell_type": "code",
   "execution_count": 28,
   "metadata": {},
   "outputs": [
    {
     "name": "stdout",
     "output_type": "stream",
     "text": [
      "['chote bheem', 'the office', 'friends', 'the office', 'friends', 'ben 10', 'doremon', 'ben 10', 'avengers', ' jai shree ram', 'ramayan', 'mahabharat', 'hanuman']\n"
     ]
    }
   ],
   "source": [
    "tvshows.extend(user_shows)\n",
    "print(tvshows)"
   ]
  },
  {
   "cell_type": "code",
   "execution_count": 32,
   "metadata": {},
   "outputs": [
    {
     "name": "stdout",
     "output_type": "stream",
     "text": [
      "['chote bheem', 'friends', 'friends', 'ben 10', 'doremon', 'ben 10', 'avengers', ' jai shree ram', 'ramayan', 'mahabharat', 'hanuman']\n"
     ]
    }
   ],
   "source": [
    "if 'the office'in tvshows:\n",
    "    tvshows.remove('the office')\n",
    "print(tvshows)"
   ]
  },
  {
   "cell_type": "code",
   "execution_count": 34,
   "metadata": {},
   "outputs": [
    {
     "name": "stdout",
     "output_type": "stream",
     "text": [
      "ben 10\n"
     ]
    }
   ],
   "source": [
    "popped_value =tvshows.pop(2)\n",
    "print(popped_value)"
   ]
  },
  {
   "cell_type": "code",
   "execution_count": 37,
   "metadata": {},
   "outputs": [
    {
     "name": "stdout",
     "output_type": "stream",
     "text": [
      "['chote bheem', 'friends', 'doremon', 'ben 10', 'avengers', ' jai shree ram', 'ramayan', 'mahabharat', 'hanuman']\n"
     ]
    }
   ],
   "source": [
    "print(tvshows)"
   ]
  },
  {
   "cell_type": "code",
   "execution_count": 39,
   "metadata": {},
   "outputs": [
    {
     "name": "stdout",
     "output_type": "stream",
     "text": [
      "[5858, 555, 222, 2222]\n"
     ]
    }
   ],
   "source": [
    "x = [2222,222,555,5858]\n",
    "x.reverse()\n",
    "print(x)\n"
   ]
  },
  {
   "cell_type": "code",
   "execution_count": 41,
   "metadata": {},
   "outputs": [
    {
     "name": "stdout",
     "output_type": "stream",
     "text": [
      "[222, 555, 2222, 5858]\n"
     ]
    }
   ],
   "source": [
    "x.sort()  # accending order\n",
    "print(x)"
   ]
  },
  {
   "cell_type": "code",
   "execution_count": 42,
   "metadata": {},
   "outputs": [
    {
     "name": "stdout",
     "output_type": "stream",
     "text": [
      "[5858, 2222, 555, 222]\n"
     ]
    }
   ],
   "source": [
    "x.sort(reverse=True)\n",
    "print(x)"
   ]
  },
  {
   "cell_type": "code",
   "execution_count": 43,
   "metadata": {},
   "outputs": [
    {
     "data": {
      "text/plain": [
       "1"
      ]
     },
     "execution_count": 43,
     "metadata": {},
     "output_type": "execute_result"
    }
   ],
   "source": [
    "x.count(222)"
   ]
  },
  {
   "cell_type": "code",
   "execution_count": 44,
   "metadata": {},
   "outputs": [
    {
     "data": {
      "text/plain": [
       "3"
      ]
     },
     "execution_count": 44,
     "metadata": {},
     "output_type": "execute_result"
    }
   ],
   "source": [
    "x.index(222) # on which index is 34 value"
   ]
  },
  {
   "cell_type": "code",
   "execution_count": 48,
   "metadata": {},
   "outputs": [
    {
     "name": "stdout",
     "output_type": "stream",
     "text": [
      "[1, 2, 3, 6, 5, 1, 2, 1, 2, 5, 1, 2, 1, 1, 2, 1, 2, 2, 1, 1, 5, 3]\n"
     ]
    }
   ],
   "source": [
    "x = [1,2,3,6,5,1,2,1,2,5,1,2,1,1,2,1,2,2,1,1,5,3]\n",
    "print(x)"
   ]
  },
  {
   "cell_type": "code",
   "execution_count": 49,
   "metadata": {},
   "outputs": [
    {
     "name": "stdout",
     "output_type": "stream",
     "text": [
      "0\n",
      "5\n",
      "7\n",
      "10\n",
      "12\n",
      "13\n",
      "15\n",
      "18\n",
      "19\n"
     ]
    }
   ],
   "source": [
    "start = 0\n",
    "for i in range (x.count(1)):\n",
    "    pos = x.index(1, start)\n",
    "    start = pos+1\n",
    "    print(pos)"
   ]
  }
 ],
 "metadata": {
  "kernelspec": {
   "display_name": "base",
   "language": "python",
   "name": "python3"
  },
  "language_info": {
   "codemirror_mode": {
    "name": "ipython",
    "version": 3
   },
   "file_extension": ".py",
   "mimetype": "text/x-python",
   "name": "python",
   "nbconvert_exporter": "python",
   "pygments_lexer": "ipython3",
   "version": "3.11.4"
  },
  "orig_nbformat": 4
 },
 "nbformat": 4,
 "nbformat_minor": 2
}
