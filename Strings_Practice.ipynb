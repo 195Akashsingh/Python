{
 "cells": [
  {
   "cell_type": "code",
   "execution_count": null,
   "metadata": {},
   "outputs": [],
   "source": [
    "# 1- Create a string and print it.\n",
    "\n",
    "a = \"Hii this is Akash\"\n",
    "print(a)"
   ]
  },
  {
   "cell_type": "code",
   "execution_count": null,
   "metadata": {},
   "outputs": [],
   "source": [
    "# 2- Take a string input and print it's length.\n",
    "\n",
    "a = input(\"Enter your name\")\n",
    "print(len(a))"
   ]
  },
  {
   "cell_type": "code",
   "execution_count": null,
   "metadata": {},
   "outputs": [],
   "source": [
    "# 3- Print the last word of the srting \"Python is great\" using slices.\n",
    "\n",
    "a = \"Python is great\"\n",
    "print(a[-1:])"
   ]
  },
  {
   "cell_type": "code",
   "execution_count": 1,
   "metadata": {},
   "outputs": [
    {
     "name": "stdout",
     "output_type": "stream",
     "text": [
      "Pthon is everywhere\n"
     ]
    }
   ],
   "source": [
    "# 4- Print the each word in different line of string \"Python is everywhere\".\n",
    "\n",
    "a = \"Pthon is everywhere\"\n",
    "\n",
    "x = a.split()\n",
    "print(a)"
   ]
  },
  {
   "cell_type": "code",
   "execution_count": 3,
   "metadata": {},
   "outputs": [
    {
     "name": "stdout",
     "output_type": "stream",
     "text": [
      "dlrow wolleH\n"
     ]
    }
   ],
   "source": [
    "# 5- Print the string \"Hellow world\" in reverse.\n",
    "\n",
    "a = \"Hellow world\"\n",
    "print(a[::-1])\n"
   ]
  },
  {
   "cell_type": "code",
   "execution_count": 7,
   "metadata": {},
   "outputs": [
    {
     "name": "stdout",
     "output_type": "stream",
     "text": [
      "HOW ARE YOU ?\n"
     ]
    }
   ],
   "source": [
    "# 6- Convert the string \"How are you ?\" in uppercase.\n",
    "\n",
    "a = \"How are you ?\"\n",
    "print(a.upper())"
   ]
  },
  {
   "cell_type": "code",
   "execution_count": 9,
   "metadata": {},
   "outputs": [
    {
     "name": "stdout",
     "output_type": "stream",
     "text": [
      "how is it going ?\n"
     ]
    }
   ],
   "source": [
    "# 7- Convert the string \"HOW IS IT GOING\" in lowercase.\n",
    "\n",
    "a = \"HOW IS IT GOING ?\"\n",
    "print(a.lower())"
   ]
  },
  {
   "cell_type": "code",
   "execution_count": null,
   "metadata": {},
   "outputs": [],
   "source": [
    "# 8- Join the following list by spaces ('  ') and print the result.\n",
    "\n"
   ]
  },
  {
   "cell_type": "code",
   "execution_count": 10,
   "metadata": {},
   "outputs": [
    {
     "name": "stdout",
     "output_type": "stream",
     "text": [
      "Twinkle, twinkle, little star,\n",
      "How I wonder what you are!\n",
      "Up above the world so high,\n",
      "Like a diamond in the sky.\n",
      "Twinkle, twinkle, little star,\n",
      "How I wonder what you are!\n",
      "\n"
     ]
    }
   ],
   "source": [
    "# 9- Print a multiline string using a single print\n",
    "\n",
    "a = '''Twinkle, twinkle, little star,\n",
    "How I wonder what you are!\n",
    "Up above the world so high,\n",
    "Like a diamond in the sky.\n",
    "Twinkle, twinkle, little star,\n",
    "How I wonder what you are!\n",
    "'''\n",
    "print(a)"
   ]
  },
  {
   "cell_type": "code",
   "execution_count": 12,
   "metadata": {},
   "outputs": [
    {
     "name": "stdout",
     "output_type": "stream",
     "text": [
      "Twinkle, twinkle, little star,\n",
      "How I wonder what you are!\n",
      "Up above the world so high,\n",
      "Like a diamond in the sky.\n"
     ]
    }
   ],
   "source": [
    "# 10- Print this string to move to newline '\\n' is used.\n",
    "\n",
    "a = \"Twinkle, twinkle, little star,\\nHow I wonder what you are!\\nUp above the world so high,\\nLike a diamond in the sky.\"\n",
    "print(a)"
   ]
  },
  {
   "cell_type": "code",
   "execution_count": 14,
   "metadata": {},
   "outputs": [],
   "source": [
    "# 11- Print a variable with some text using a single print function, output should look like following.\n",
    "\n"
   ]
  },
  {
   "cell_type": "code",
   "execution_count": 19,
   "metadata": {},
   "outputs": [
    {
     "name": "stdout",
     "output_type": "stream",
     "text": [
      "concatenate the three different string Pythonisgreat\n"
     ]
    }
   ],
   "source": [
    "# 12- concatenate the following string and print the result \n",
    "# s1 ='python'\n",
    "# s2 ='is'\n",
    "# s3 = 'great'\n",
    "\n",
    "\n",
    "s1 ='Python'\n",
    "s2 ='is'\n",
    "s3 ='great'\n",
    "str= s1+s2+s3 \n",
    "print('concatenate the three different string',str)\n",
    "\n",
    "\n"
   ]
  },
  {
   "cell_type": "code",
   "execution_count": 23,
   "metadata": {},
   "outputs": [
    {
     "name": "stdout",
     "output_type": "stream",
     "text": [
      "1\n"
     ]
    },
    {
     "data": {
      "text/plain": [
       "[None]"
      ]
     },
     "execution_count": 23,
     "metadata": {},
     "output_type": "execute_result"
    }
   ],
   "source": [
    "# 13- Print #20 times with out using a loop\n",
    "\n",
    "\n"
   ]
  },
  {
   "cell_type": "code",
   "execution_count": 26,
   "metadata": {},
   "outputs": [
    {
     "name": "stdout",
     "output_type": "stream",
     "text": [
      "1.\n",
      "2.\n",
      "3.\n",
      "4.\n",
      "5.\n",
      "6.\n",
      "7.\n",
      "8.\n",
      "9.\n"
     ]
    }
   ],
   "source": [
    "# 14- Print numbers from 1 to 9, each on a seperate line, followed by a dot, output should look like the following-\n",
    "# 1.\n",
    "# 2.\n",
    "# 3.\n",
    "\n",
    "a = '1.\\n2.\\n3.\\n4.\\n5.\\n6.\\n7.\\n8.\\n9.'\n",
    "print(a)"
   ]
  },
  {
   "cell_type": "code",
   "execution_count": 30,
   "metadata": {},
   "outputs": [
    {
     "name": "stdout",
     "output_type": "stream",
     "text": [
      "['j']\n"
     ]
    }
   ],
   "source": [
    "# 15- Ask user to input a sentence and print each word on a different line.\n",
    "a = input('Enter a sentence:')\n",
    "print(a.split(\" \"))"
   ]
  },
  {
   "cell_type": "code",
   "execution_count": null,
   "metadata": {},
   "outputs": [],
   "source": [
    "# 16- "
   ]
  }
 ],
 "metadata": {
  "kernelspec": {
   "display_name": "base",
   "language": "python",
   "name": "python3"
  },
  "language_info": {
   "codemirror_mode": {
    "name": "ipython",
    "version": 3
   },
   "file_extension": ".py",
   "mimetype": "text/x-python",
   "name": "python",
   "nbconvert_exporter": "python",
   "pygments_lexer": "ipython3",
   "version": "3.11.4"
  },
  "orig_nbformat": 4
 },
 "nbformat": 4,
 "nbformat_minor": 2
}
