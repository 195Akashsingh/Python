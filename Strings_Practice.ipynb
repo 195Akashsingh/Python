{
 "cells": [
  {
   "cell_type": "code",
   "execution_count": 14,
   "metadata": {},
   "outputs": [
    {
     "name": "stdout",
     "output_type": "stream",
     "text": [
      "Hii this is Akash\n"
     ]
    }
   ],
   "source": [
    "# 1- Create a string and print it.\n",
    "\n",
    "a = \"Hii this is Akash\"\n",
    "print(a)"
   ]
  },
  {
   "cell_type": "code",
   "execution_count": 15,
   "metadata": {},
   "outputs": [
    {
     "name": "stdout",
     "output_type": "stream",
     "text": [
      "1\n"
     ]
    }
   ],
   "source": [
    "# 2- Take a string input and print it's length.\n",
    "\n",
    "a = input(\"Enter your name\")\n",
    "print(len(a))"
   ]
  },
  {
   "cell_type": "code",
   "execution_count": 16,
   "metadata": {},
   "outputs": [
    {
     "name": "stdout",
     "output_type": "stream",
     "text": [
      "t\n"
     ]
    }
   ],
   "source": [
    "# 3- Print the last word of the srting \"Python is great\" using slices.\n",
    "\n",
    "a = \"Python is great\"\n",
    "print(a[-1:])"
   ]
  },
  {
   "cell_type": "code",
   "execution_count": 17,
   "metadata": {},
   "outputs": [
    {
     "name": "stdout",
     "output_type": "stream",
     "text": [
      "P \n",
      "\n",
      "t \n",
      "\n",
      "h \n",
      "\n",
      "o \n",
      "\n",
      "n \n",
      "\n",
      "  \n",
      "\n",
      "i \n",
      "\n",
      "s \n",
      "\n",
      "  \n",
      "\n",
      "e \n",
      "\n",
      "v \n",
      "\n",
      "e \n",
      "\n",
      "r \n",
      "\n",
      "y \n",
      "\n",
      "w \n",
      "\n",
      "h \n",
      "\n",
      "e \n",
      "\n",
      "r \n",
      "\n",
      "e \n",
      "\n"
     ]
    }
   ],
   "source": [
    "# 4- Print the each word in different line of string \"Python is everywhere\".\n",
    "\n",
    "a = \"Pthon is everywhere\"\n",
    "for i in a:\n",
    "    print(i,'\\n')\n"
   ]
  },
  {
   "cell_type": "code",
   "execution_count": 18,
   "metadata": {},
   "outputs": [
    {
     "name": "stdout",
     "output_type": "stream",
     "text": [
      "dlrow wolleH\n"
     ]
    }
   ],
   "source": [
    "# 5- Print the string \"Hellow world\" in reverse.\n",
    "\n",
    "a = \"Hellow world\"\n",
    "print(a[::-1])\n"
   ]
  },
  {
   "cell_type": "code",
   "execution_count": 19,
   "metadata": {},
   "outputs": [
    {
     "name": "stdout",
     "output_type": "stream",
     "text": [
      "HOW ARE YOU ?\n"
     ]
    }
   ],
   "source": [
    "# 6- Convert the string \"How are you ?\" in uppercase.\n",
    "\n",
    "a = \"How are you ?\"\n",
    "print(a.upper())"
   ]
  },
  {
   "cell_type": "code",
   "execution_count": 20,
   "metadata": {},
   "outputs": [
    {
     "name": "stdout",
     "output_type": "stream",
     "text": [
      "how is it going ?\n"
     ]
    }
   ],
   "source": [
    "# 7- Convert the string \"HOW IS IT GOING\" in lowercase.\n",
    "\n",
    "a = \"HOW IS IT GOING ?\"\n",
    "print(a.lower())"
   ]
  },
  {
   "cell_type": "code",
   "execution_count": 21,
   "metadata": {},
   "outputs": [],
   "source": [
    "# 8- Join the following list by spaces ('  ') and print the result.\n",
    "\n"
   ]
  },
  {
   "cell_type": "code",
   "execution_count": 22,
   "metadata": {},
   "outputs": [
    {
     "name": "stdout",
     "output_type": "stream",
     "text": [
      "Twinkle, twinkle, little star,\n",
      "How I wonder what you are!\n",
      "Up above the world so high,\n",
      "Like a diamond in the sky.\n",
      "Twinkle, twinkle, little star,\n",
      "How I wonder what you are!\n",
      "\n"
     ]
    }
   ],
   "source": [
    "# 9- Print a multiline string using a single print\n",
    "\n",
    "a = '''Twinkle, twinkle, little star,\n",
    "How I wonder what you are!\n",
    "Up above the world so high,\n",
    "Like a diamond in the sky.\n",
    "Twinkle, twinkle, little star,\n",
    "How I wonder what you are!\n",
    "'''\n",
    "print(a)"
   ]
  },
  {
   "cell_type": "code",
   "execution_count": 23,
   "metadata": {},
   "outputs": [
    {
     "name": "stdout",
     "output_type": "stream",
     "text": [
      "Twinkle, twinkle, little star,\n",
      "How I wonder what you are!\n",
      "Up above the world so high,\n",
      "Like a diamond in the sky.\n"
     ]
    }
   ],
   "source": [
    "# 10- Print this string to move to newline '\\n' is used.\n",
    "\n",
    "a = \"Twinkle, twinkle, little star,\\nHow I wonder what you are!\\nUp above the world so high,\\nLike a diamond in the sky.\"\n",
    "print(a)"
   ]
  },
  {
   "cell_type": "code",
   "execution_count": 24,
   "metadata": {},
   "outputs": [],
   "source": [
    "# 11- Print a variable with some text using a single print function, output should look like following.\n",
    "\n"
   ]
  },
  {
   "cell_type": "code",
   "execution_count": 25,
   "metadata": {},
   "outputs": [
    {
     "name": "stdout",
     "output_type": "stream",
     "text": [
      "concatenate the three different string Pythonisgreat\n"
     ]
    }
   ],
   "source": [
    "# 12- concatenate the following string and print the result \n",
    "# s1 ='python'\n",
    "# s2 ='is'\n",
    "# s3 = 'great'\n",
    "\n",
    "\n",
    "s1 ='Python'\n",
    "s2 ='is'\n",
    "s3 ='great'\n",
    "str= s1+s2+s3 \n",
    "print('concatenate the three different string',str)\n",
    "\n",
    "\n"
   ]
  },
  {
   "cell_type": "code",
   "execution_count": 26,
   "metadata": {},
   "outputs": [
    {
     "name": "stdout",
     "output_type": "stream",
     "text": [
      "Hii\n",
      "Hii\n",
      "Hii\n",
      "Hii\n",
      "Hii\n",
      "Hii\n",
      "Hii\n",
      "Hii\n",
      "Hii\n",
      "Hii\n",
      "Hii\n",
      "Hii\n",
      "Hii\n",
      "Hii\n",
      "Hii\n",
      "Hii\n",
      "Hii\n",
      "Hii\n",
      "Hii\n",
      "Hii\n",
      "Hii\n",
      "Hii\n"
     ]
    }
   ],
   "source": [
    "# 13- Print #20 times with out using a loop\n",
    "\n",
    "a= \"Hii\"\n",
    "print(a)\n",
    "print(a)\n",
    "print(a)\n",
    "print(a)\n",
    "print(a)\n",
    "print(a)\n",
    "print(a)\n",
    "print(a)\n",
    "print(a)\n",
    "print(a)\n",
    "print(a)\n",
    "print(a)\n",
    "print(a)\n",
    "print(a)\n",
    "print(a)\n",
    "print(a)\n",
    "print(a)\n",
    "print(a)\n",
    "print(a)\n",
    "print(a)\n",
    "print(a)\n",
    "print(a)\n"
   ]
  },
  {
   "cell_type": "code",
   "execution_count": 27,
   "metadata": {},
   "outputs": [
    {
     "name": "stdout",
     "output_type": "stream",
     "text": [
      "1.\n",
      "2.\n",
      "3.\n",
      "4.\n",
      "5.\n",
      "6.\n",
      "7.\n",
      "8.\n",
      "9.\n"
     ]
    }
   ],
   "source": [
    "# 14- Print numbers from 1 to 9, each on a seperate line, followed by a dot, output should look like the following-\n",
    "# 1.\n",
    "# 2.\n",
    "# 3.\n",
    "\n",
    "a = '1.\\n2.\\n3.\\n4.\\n5.\\n6.\\n7.\\n8.\\n9.'\n",
    "print(a)"
   ]
  },
  {
   "cell_type": "code",
   "execution_count": 28,
   "metadata": {},
   "outputs": [
    {
     "name": "stdout",
     "output_type": "stream",
     "text": [
      "['5']\n"
     ]
    }
   ],
   "source": [
    "# 15- Ask user to input a sentence and print each word on a different line.\n",
    "a = input('Enter a sentence:')\n",
    "print(a.split(\" \"))"
   ]
  },
  {
   "cell_type": "code",
   "execution_count": 29,
   "metadata": {},
   "outputs": [],
   "source": [
    "# 16- "
   ]
  },
  {
   "cell_type": "code",
   "execution_count": 30,
   "metadata": {},
   "outputs": [
    {
     "name": "stdout",
     "output_type": "stream",
     "text": [
      "1\n"
     ]
    }
   ],
   "source": [
    "# 17- Ask user to input a string and print how many times \"e\" appeared in the string.and\n",
    "\n",
    "a = input(\"Enter something\")\n",
    "print(a.count('e'))"
   ]
  },
  {
   "cell_type": "code",
   "execution_count": 31,
   "metadata": {},
   "outputs": [
    {
     "name": "stdout",
     "output_type": "stream",
     "text": [
      ">>> 5 <<<\n",
      "You enter a number\n"
     ]
    }
   ],
   "source": [
    "# 18- Check if the user input is a number\n",
    "\n",
    "a = input('Enter something')\n",
    "print('>>>',a,'<<<')\n",
    "if a.isnumeric():\n",
    "    print('You enter a number')\n",
    "else:\n",
    "    print(\"it is not a number\")"
   ]
  },
  {
   "cell_type": "code",
   "execution_count": 37,
   "metadata": {},
   "outputs": [
    {
     "name": "stdout",
     "output_type": "stream",
     "text": [
      "This is not a good string\n"
     ]
    }
   ],
   "source": [
    "# 19- Remove the extra spaces in beginning and in the end of the following string. \"text = '    this is not a good string          '\"\n",
    "\n",
    "\n",
    "text = '          This is not a good string          '\n",
    "print(text.replace('          ',''))\n"
   ]
  },
  {
   "cell_type": "code",
   "execution_count": 40,
   "metadata": {},
   "outputs": [
    {
     "name": "stdout",
     "output_type": "stream",
     "text": [
      "Found\n"
     ]
    }
   ],
   "source": [
    "# 20- Ask user to input string, print\"found\" if any of the character is upper case. \n",
    "'''user_input = input(\"Enter a string: \")\n",
    "\n",
    "found_uppercase = False\n",
    "\n",
    "for char in user_input:\n",
    "    if char.isupper():\n",
    "        found_uppercase = True\n",
    "        break\n",
    "\n",
    "if found_uppercase:\n",
    "    print(\"Found\")'''\n",
    "\n",
    "\n",
    "msg = input('enter some') "
   ]
  },
  {
   "cell_type": "code",
   "execution_count": 41,
   "metadata": {},
   "outputs": [
    {
     "name": "stdout",
     "output_type": "stream",
     "text": [
      "['Joe', 'David', 'Mark', 'Tom', 'Chris', 'Robert']\n"
     ]
    }
   ],
   "source": [
    "# 21- Extract names from the following string and store them in a list.\n",
    "#     names = 'Joe, David, Mark, Tom, Chris, Robert'\n",
    "\n",
    "#name= 'Joe, David, Mark, Tom, Chris, Robert'\n",
    "'''names = 'Joe, David, Mark, Tom, Chris, Robert'\n",
    "name_list = [name.strip() for name in names.split(',')]\n",
    "print(name_list)'''\n"
   ]
  },
  {
   "cell_type": "code",
   "execution_count": 4,
   "metadata": {},
   "outputs": [
    {
     "ename": "AttributeError",
     "evalue": "'list' object has no attribute 'split'",
     "output_type": "error",
     "traceback": [
      "\u001b[1;31m---------------------------------------------------------------------------\u001b[0m",
      "\u001b[1;31mAttributeError\u001b[0m                            Traceback (most recent call last)",
      "Cell \u001b[1;32mIn[4], line 7\u001b[0m\n\u001b[0;32m      5\u001b[0m text \u001b[39m=\u001b[39m [\u001b[39m'\u001b[39m\u001b[39mThis is some text\u001b[39m\u001b[39m'\u001b[39m]\n\u001b[0;32m      6\u001b[0m \u001b[39mfor\u001b[39;00m i \u001b[39min\u001b[39;00m text:\n\u001b[1;32m----> 7\u001b[0m     words \u001b[39m=\u001b[39m text\u001b[39m.\u001b[39msplit()\n\u001b[0;32m      8\u001b[0m \u001b[39mprint\u001b[39m(words[o])\n",
      "\u001b[1;31mAttributeError\u001b[0m: 'list' object has no attribute 'split'"
     ]
    }
   ],
   "source": [
    "# 22- In the following string, add aye in the end of every word and print the results.\n",
    "#     text = 'this is some text'\n",
    "\n",
    "\n",
    "text = ['This is some text']\n",
    "for i in text:\n",
    "    words = text.split()\n",
    "print(words[o])\n"
   ]
  },
  {
   "cell_type": "code",
   "execution_count": null,
   "metadata": {},
   "outputs": [],
   "source": [
    "# 23- ask user to enter a string and check if the string contains fyi\n",
    "\n",
    "\n",
    "a = input('Enter some thing')\n",
    "for "
   ]
  },
  {
   "cell_type": "code",
   "execution_count": null,
   "metadata": {},
   "outputs": [],
   "source": [
    "# 24- ask user to enter a string and check if the string contains fyi\n",
    "#     text = '%p34@y!*-*!t68h#&on404'"
   ]
  },
  {
   "cell_type": "code",
   "execution_count": 1,
   "metadata": {},
   "outputs": [
    {
     "name": "stdout",
     "output_type": "stream",
     "text": [
      "<built-in method count of str object at 0x000001468B788D40>\n"
     ]
    }
   ],
   "source": [
    "# 25- calculate the average word length of the following paragraph.\n",
    "#     this is a paragraph which is written just for the purpose of providing content to let the average word length be calculated\n",
    "\n",
    "\n"
   ]
  }
 ],
 "metadata": {
  "kernelspec": {
   "display_name": "base",
   "language": "python",
   "name": "python3"
  },
  "language_info": {
   "codemirror_mode": {
    "name": "ipython",
    "version": 3
   },
   "file_extension": ".py",
   "mimetype": "text/x-python",
   "name": "python",
   "nbconvert_exporter": "python",
   "pygments_lexer": "ipython3",
   "version": "3.11.4"
  },
  "orig_nbformat": 4
 },
 "nbformat": 4,
 "nbformat_minor": 2
}
