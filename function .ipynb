{
 "cells": [
  {
   "cell_type": "markdown",
   "metadata": {},
   "source": [
    "\n",
    "syntax\n",
    "\n",
    "def fun_name([parameter]):\n",
    "    statement 1\n",
    "    statement 2\n",
    "    ...\n",
    "    statement n\n",
    "    [return expression]\n",
    "example\n",
    "\n",
    "def area(width, height):\n",
    "    a = width * height\n",
    "    return a\n",
    "functions\n",
    "based on parameter and return value\n",
    "no parameter, no return value\n",
    "no parameter, return value\n",
    "parameter, no return value\n",
    "parameter, return value\n",
    "based on parameter type\n",
    "required parameter\n",
    "keyword parameter\n",
    "default parameter\n",
    "variable length arguments (*args)\n",
    "variable keyword arguments (**kwargs)\n",
    "other types of function\n",
    "lambda function\n",
    "generator function\n",
    "recursive function\n",
    "\n",
    "\n",
    "     "
   ]
  },
  {
   "cell_type": "code",
   "execution_count": 1,
   "metadata": {},
   "outputs": [],
   "source": [
    "#  Value returning function \n",
    "\n",
    "def area ():\n",
    "    l = int(input('enter l ='))\n",
    "    b = int(input('enter b ='))\n",
    "    return l*b"
   ]
  },
  {
   "cell_type": "code",
   "execution_count": 4,
   "metadata": {},
   "outputs": [
    {
     "name": "stdout",
     "output_type": "stream",
     "text": [
      "area is 1600\n"
     ]
    }
   ],
   "source": [
    "ans = area()\n",
    "print(f'area is {ans}')"
   ]
  },
  {
   "cell_type": "code",
   "execution_count": 5,
   "metadata": {},
   "outputs": [],
   "source": [
    "def math():\n",
    "    p = int(input('enter the principle:'))\n",
    "    r = int(input('enter the rate:'))\n",
    "    t = int(input('enter the time'))\n",
    "    si = p*r*t\n",
    "    amt = p+si\n",
    "    return si,amt\n"
   ]
  },
  {
   "cell_type": "code",
   "execution_count": 6,
   "metadata": {},
   "outputs": [
    {
     "name": "stdout",
     "output_type": "stream",
     "text": [
      "si 7500\n",
      "amt 7550\n"
     ]
    }
   ],
   "source": [
    "result =math()\n",
    "print('si',result[0])\n",
    "print('amt',result[1])"
   ]
  },
  {
   "cell_type": "code",
   "execution_count": 7,
   "metadata": {},
   "outputs": [
    {
     "name": "stdout",
     "output_type": "stream",
     "text": [
      "1000 1050\n"
     ]
    }
   ],
   "source": [
    "si,amount = math()\n",
    "print(si,amount)"
   ]
  },
  {
   "cell_type": "code",
   "execution_count": 8,
   "metadata": {},
   "outputs": [],
   "source": [
    "def num ():\n",
    "    a =int(input('enter '))\n",
    "    b =int(input('enter'))\n",
    "    plus = a +b\n",
    "    return plus"
   ]
  },
  {
   "cell_type": "code",
   "execution_count": 10,
   "metadata": {},
   "outputs": [
    {
     "name": "stdout",
     "output_type": "stream",
     "text": [
      "1000\n"
     ]
    }
   ],
   "source": [
    "plus = num()\n",
    "print(plus)"
   ]
  },
  {
   "cell_type": "code",
   "execution_count": 13,
   "metadata": {},
   "outputs": [],
   "source": [
    "def is_armstrong(number):\n",
    "    t = number\n",
    "    s = 0 # sum\n",
    "    pow = len(str(number))\n",
    "    while number > 0:\n",
    "        r = number % 10\n",
    "        s += r **pow\n",
    "        number //= 10\n",
    "    return t == s"
   ]
  },
  {
   "cell_type": "code",
   "execution_count": 16,
   "metadata": {},
   "outputs": [
    {
     "name": "stdout",
     "output_type": "stream",
     "text": [
      "False\n"
     ]
    }
   ],
   "source": [
    "x = int(input('enter a number'))\n",
    "print(is_armstrong(x))"
   ]
  },
  {
   "cell_type": "code",
   "execution_count": 17,
   "metadata": {},
   "outputs": [
    {
     "name": "stdout",
     "output_type": "stream",
     "text": [
      "153\n",
      "370\n",
      "371\n",
      "407\n",
      "1634\n",
      "8208\n",
      "9474\n"
     ]
    }
   ],
   "source": [
    "for i in range (100,9999):\n",
    "    if is_armstrong(i):\n",
    "        print(i)\n"
   ]
  },
  {
   "cell_type": "code",
   "execution_count": 18,
   "metadata": {},
   "outputs": [],
   "source": [
    "def adder(a,b,c):\n",
    "    return a+b+c\n"
   ]
  },
  {
   "cell_type": "code",
   "execution_count": 20,
   "metadata": {},
   "outputs": [
    {
     "name": "stdout",
     "output_type": "stream",
     "text": [
      "20\n"
     ]
    }
   ],
   "source": [
    "print(adder(5,6,9))"
   ]
  },
  {
   "cell_type": "code",
   "execution_count": 22,
   "metadata": {},
   "outputs": [
    {
     "name": "stdout",
     "output_type": "stream",
     "text": [
      "17\n",
      "161\n",
      "35\n",
      "35\n"
     ]
    }
   ],
   "source": [
    "print(adder(a=4,b=5,c=8)) # keyword arguments\n",
    "print(adder(b=10, c=52, a =99)) # allows for any order\n",
    "print(adder (10, c= 20, b =5))\n",
    "print(adder(10,20,c =5))"
   ]
  },
  {
   "cell_type": "code",
   "execution_count": 24,
   "metadata": {},
   "outputs": [],
   "source": [
    "# Deffault arguments\n",
    "\n",
    "def multiplier(a,b,c=1):\n",
    "    return a*b*c"
   ]
  },
  {
   "cell_type": "code",
   "execution_count": 25,
   "metadata": {},
   "outputs": [
    {
     "name": "stdout",
     "output_type": "stream",
     "text": [
      "6\n",
      "60\n",
      "30\n"
     ]
    }
   ],
   "source": [
    "print (multiplier(2 ,3))\n",
    "print(multiplier(2 , 3 ,10))\n",
    "print(multiplier(2 ,3, c= 5))"
   ]
  },
  {
   "cell_type": "code",
   "execution_count": 27,
   "metadata": {},
   "outputs": [],
   "source": [
    "from string import punctuation\n",
    "def cleaner(data, char =None):\n",
    "    if char is None:\n",
    "        char = punctuation\n",
    "    for c in char:\n",
    "        data = data.replace(c,'')\n",
    "    return data"
   ]
  },
  {
   "cell_type": "code",
   "execution_count": 34,
   "metadata": {},
   "outputs": [
    {
     "data": {
      "text/plain": [
       "'a^&*()k^&*(a^&*sh)'"
      ]
     },
     "execution_count": 34,
     "metadata": {},
     "output_type": "execute_result"
    }
   ],
   "source": [
    "cleaner('a@!#$%^&*()k@#$%^&*(a!@#$%^&*sh)',char ='!@#$%')"
   ]
  },
  {
   "cell_type": "code",
   "execution_count": 35,
   "metadata": {},
   "outputs": [],
   "source": [
    "def multiplier (*nums):\n",
    "    result = 1\n",
    "    for num in nums:\n",
    "        result *= num\n",
    "        return result"
   ]
  },
  {
   "cell_type": "code",
   "execution_count": 36,
   "metadata": {},
   "outputs": [
    {
     "name": "stdout",
     "output_type": "stream",
     "text": [
      "None\n",
      "2\n",
      "2\n"
     ]
    }
   ],
   "source": [
    "print(multiplier())\n",
    "print(multiplier(2))\n",
    "print(multiplier(2,2,2,3,5,5))"
   ]
  },
  {
   "cell_type": "code",
   "execution_count": 37,
   "metadata": {},
   "outputs": [],
   "source": [
    "def aggregator(*x, action ='sum'):\n",
    "    if action =='sum':\n",
    "        return sum(x)\n",
    "    elif action == 'count':\n",
    "        return len(x)\n",
    "    elif action == 'mean':\n",
    "        return sum(x)/ len(x)\n",
    "    else:\n",
    "        raise ValueError('invslid action')"
   ]
  },
  {
   "cell_type": "code",
   "execution_count": 40,
   "metadata": {},
   "outputs": [
    {
     "data": {
      "text/plain": [
       "4.111111111111111"
      ]
     },
     "execution_count": 40,
     "metadata": {},
     "output_type": "execute_result"
    }
   ],
   "source": [
    "aggregator(1,2,3,6,5,4,6,5,5, action ='mean')"
   ]
  }
 ],
 "metadata": {
  "kernelspec": {
   "display_name": "base",
   "language": "python",
   "name": "python3"
  },
  "language_info": {
   "codemirror_mode": {
    "name": "ipython",
    "version": 3
   },
   "file_extension": ".py",
   "mimetype": "text/x-python",
   "name": "python",
   "nbconvert_exporter": "python",
   "pygments_lexer": "ipython3",
   "version": "3.11.4"
  },
  "orig_nbformat": 4
 },
 "nbformat": 4,
 "nbformat_minor": 2
}
