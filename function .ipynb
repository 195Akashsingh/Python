{
 "cells": [
  {
   "cell_type": "markdown",
   "metadata": {},
   "source": [
    "Syntax\n",
    "\n",
    "def fun_name([parameter]):\n",
    "     statement 1\n",
    "     statement 2\n",
    "     ....\n",
    "     statement n\n",
    "     [return expression]\n",
    "\n",
    "\n",
    "example\n",
    "\n",
    "def area (width ,height):\n",
    "    a = width* height\n",
    "    return a\n",
    "\n",
    " \n",
    "\n",
    "\n",
    "\n",
    "Functon\n",
    ". Based on parameter and return value\n",
    "    1. No paremeter, no return value\n",
    "    2. No parameter, return value \n",
    "    3. Parameter , no return value \n",
    "    4. Psrsmeter, return value\n",
    "\n",
    ". Based on parameter type\n",
    "    1. Required parameter \n",
    "    2. Keyword parameter\n",
    "    3. Default parameter\n",
    "    4. Variable length arguments (*args)\n",
    "    5. Variable keyword arguments (**kwarg)\n",
    "\n",
    ". Other type of function\n",
    "    1. Lambda functon \n",
    "    2. Generator function\n",
    "    3. Recursive function \n",
    "\n",
    "     "
   ]
  },
  {
   "cell_type": "code",
   "execution_count": 9,
   "metadata": {},
   "outputs": [],
   "source": [
    "#  Value returning function \n",
    "\n",
    "def area ():\n",
    "    l = int(input('enter l ='))\n",
    "    b = int(input('enter b ='))\n",
    "    return l*b"
   ]
  },
  {
   "cell_type": "code",
   "execution_count": 10,
   "metadata": {},
   "outputs": [],
   "source": [
    "ans = area()\n",
    "print(f'area is {ans}')"
   ]
  },
  {
   "cell_type": "code",
   "execution_count": null,
   "metadata": {},
   "outputs": [],
   "source": [
    "def math():\n",
    "    p = int(input('enter the principle:'))\n",
    "    r = int(input('enter the rate:'))\n",
    "    t = int(input('enter the time'))\n",
    "    si = p*r*t\n",
    "    amt = p+si\n",
    "    return si,amt\n"
   ]
  },
  {
   "cell_type": "code",
   "execution_count": null,
   "metadata": {},
   "outputs": [
    {
     "name": "stdout",
     "output_type": "stream",
     "text": [
      "si 7500\n",
      "amt 7550\n"
     ]
    }
   ],
   "source": [
    "result =math()\n",
    "print('si',result[0])\n",
    "print('amt',result[1])"
   ]
  },
  {
   "cell_type": "code",
   "execution_count": null,
   "metadata": {},
   "outputs": [
    {
     "name": "stdout",
     "output_type": "stream",
     "text": [
      "1000 1050\n"
     ]
    }
   ],
   "source": [
    "si,amount = math()\n",
    "print(si,amount)"
   ]
  },
  {
   "cell_type": "code",
   "execution_count": null,
   "metadata": {},
   "outputs": [],
   "source": [
    "def num ():\n",
    "    a =int(input('enter '))\n",
    "    b =int(input('enter'))\n",
    "    plus = a +b\n",
    "    return plus"
   ]
  },
  {
   "cell_type": "code",
   "execution_count": null,
   "metadata": {},
   "outputs": [
    {
     "name": "stdout",
     "output_type": "stream",
     "text": [
      "1000\n"
     ]
    }
   ],
   "source": [
    "plus = num()\n",
    "print(plus)"
   ]
  },
  {
   "cell_type": "code",
   "execution_count": null,
   "metadata": {},
   "outputs": [],
   "source": [
    "def is_armstrong(number):\n",
    "    t = number\n",
    "    s = 0 # sum\n",
    "    pow = len(str(number))\n",
    "    while number > 0:\n",
    "        r = number % 10\n",
    "        s += r **pow\n",
    "        number //= 10\n",
    "    return t == s"
   ]
  },
  {
   "cell_type": "code",
   "execution_count": null,
   "metadata": {},
   "outputs": [
    {
     "name": "stdout",
     "output_type": "stream",
     "text": [
      "False\n"
     ]
    }
   ],
   "source": [
    "x = int(input('enter a number'))\n",
    "print(is_armstrong(x))"
   ]
  },
  {
   "cell_type": "code",
   "execution_count": null,
   "metadata": {},
   "outputs": [
    {
     "name": "stdout",
     "output_type": "stream",
     "text": [
      "153\n",
      "370\n",
      "371\n",
      "407\n",
      "1634\n",
      "8208\n",
      "9474\n"
     ]
    }
   ],
   "source": [
    "for i in range (100,9999):\n",
    "    if is_armstrong(i):\n",
    "        print(i)\n"
   ]
  },
  {
   "cell_type": "code",
   "execution_count": null,
   "metadata": {},
   "outputs": [],
   "source": [
    "def adder(a,b,c):\n",
    "    return a+b+c\n"
   ]
  },
  {
   "cell_type": "code",
   "execution_count": null,
   "metadata": {},
   "outputs": [
    {
     "name": "stdout",
     "output_type": "stream",
     "text": [
      "20\n"
     ]
    }
   ],
   "source": [
    "print(adder(5,6,9))"
   ]
  },
  {
   "cell_type": "code",
   "execution_count": null,
   "metadata": {},
   "outputs": [
    {
     "name": "stdout",
     "output_type": "stream",
     "text": [
      "17\n",
      "161\n",
      "35\n",
      "35\n"
     ]
    }
   ],
   "source": [
    "print(adder(a=4,b=5,c=8)) # keyword arguments\n",
    "print(adder(b=10, c=52, a =99)) # allows for any order\n",
    "print(adder (10, c= 20, b =5))\n",
    "print(adder(10,20,c =5))"
   ]
  },
  {
   "cell_type": "code",
   "execution_count": null,
   "metadata": {},
   "outputs": [],
   "source": [
    "# Deffault arguments\n",
    "\n",
    "def multiplier(a,b,c=1):\n",
    "    return a*b*c"
   ]
  },
  {
   "cell_type": "code",
   "execution_count": null,
   "metadata": {},
   "outputs": [
    {
     "name": "stdout",
     "output_type": "stream",
     "text": [
      "6\n",
      "60\n",
      "30\n"
     ]
    }
   ],
   "source": [
    "print (multiplier(2 ,3))\n",
    "print(multiplier(2 , 3 ,10))\n",
    "print(multiplier(2 ,3, c= 5))"
   ]
  },
  {
   "cell_type": "code",
   "execution_count": null,
   "metadata": {},
   "outputs": [],
   "source": [
    "from string import punctuation\n",
    "def cleaner(data, char =None):\n",
    "    if char is None:\n",
    "        char = punctuation\n",
    "    for c in char:\n",
    "        data = data.replace(c,'')\n",
    "    return data"
   ]
  },
  {
   "cell_type": "code",
   "execution_count": null,
   "metadata": {},
   "outputs": [
    {
     "data": {
      "text/plain": [
       "'a^&*()k^&*(a^&*sh)'"
      ]
     },
     "execution_count": 34,
     "metadata": {},
     "output_type": "execute_result"
    }
   ],
   "source": [
    "cleaner('a@!#$%^&*()k@#$%^&*(a!@#$%^&*sh)',char ='!@#$%')"
   ]
  },
  {
   "cell_type": "code",
   "execution_count": null,
   "metadata": {},
   "outputs": [],
   "source": [
    "def multiplier (*nums):\n",
    "    result = 1\n",
    "    for num in nums:\n",
    "        result *= num\n",
    "        return result"
   ]
  },
  {
   "cell_type": "code",
   "execution_count": null,
   "metadata": {},
   "outputs": [
    {
     "name": "stdout",
     "output_type": "stream",
     "text": [
      "2\n"
     ]
    }
   ],
   "source": [
    "#print(multiplier())\n",
    "#print(multiplier(2))\n",
    "print(multiplier(2,2,5))"
   ]
  },
  {
   "cell_type": "code",
   "execution_count": null,
   "metadata": {},
   "outputs": [],
   "source": [
    "def aggregator(*x, action ='sum'):\n",
    "    if action =='sum':\n",
    "        return sum(x)\n",
    "    elif action == 'count':\n",
    "        return len(x)\n",
    "    elif action == 'mean':\n",
    "        return sum(x)/ len(x)\n",
    "    else:\n",
    "        raise ValueError('invslid action')"
   ]
  },
  {
   "cell_type": "code",
   "execution_count": null,
   "metadata": {},
   "outputs": [
    {
     "data": {
      "text/plain": [
       "4.111111111111111"
      ]
     },
     "execution_count": 40,
     "metadata": {},
     "output_type": "execute_result"
    }
   ],
   "source": [
    "aggregator(1,2,3,6,5,4,6,5,5, action ='mean')"
   ]
  },
  {
   "cell_type": "code",
   "execution_count": 13,
   "metadata": {},
   "outputs": [],
   "source": [
    "def sorter(*data, type ='number'):\n",
    "    if type ==\"number\":\n",
    "        clean_data =[]\n",
    "        for i in data:\n",
    "            if isinstance(i,int) or isinstance(i,float):\n",
    "                clean_data.append(i)\n",
    "        clean_data.sort()\n",
    "        return clean_data\n",
    "    else:\n",
    "            return None"
   ]
  },
  {
   "cell_type": "code",
   "execution_count": 14,
   "metadata": {},
   "outputs": [
    {
     "data": {
      "text/plain": [
       "[1, 2, 3, 7, 8, 9]"
      ]
     },
     "execution_count": 14,
     "metadata": {},
     "output_type": "execute_result"
    }
   ],
   "source": [
    "sorter(1,2,3,9,8,7)"
   ]
  },
  {
   "cell_type": "code",
   "execution_count": 23,
   "metadata": {},
   "outputs": [],
   "source": [
    "def display_data(**data):\n",
    "    print(\"Your data:\")\n",
    "    total  =0\n",
    "    for k , v in data.items():\n",
    "        print(f\"{k:10}{v}\")\n",
    "        total+=v\n",
    "    print('-'*20)\n",
    "    print(f\"total: Rs.{total}\")\n",
    "    print('-'*20)"
   ]
  },
  {
   "cell_type": "code",
   "execution_count": 24,
   "metadata": {},
   "outputs": [
    {
     "name": "stdout",
     "output_type": "stream",
     "text": [
      "Your data:\n",
      "dahi      50\n",
      "medicine  1200\n",
      "tshirt    250\n",
      "fruits    100\n",
      "--------------------\n",
      "total: Rs.1600\n",
      "--------------------\n"
     ]
    }
   ],
   "source": [
    "display_data(dahi =50, medicine =1200,tshirt =250,fruits =100)"
   ]
  },
  {
   "cell_type": "code",
   "execution_count": 25,
   "metadata": {},
   "outputs": [
    {
     "name": "stdout",
     "output_type": "stream",
     "text": [
      "210\n",
      "80\n",
      "26\n"
     ]
    }
   ],
   "source": [
    "f = lambda x: x**2 + x*10 +x\n",
    "print(f(10))\n",
    "print(f(5))\n",
    "print(f(2))"
   ]
  },
  {
   "cell_type": "code",
   "execution_count": 27,
   "metadata": {},
   "outputs": [
    {
     "name": "stdout",
     "output_type": "stream",
     "text": [
      "642\n",
      "1547\n",
      "2078\n"
     ]
    }
   ],
   "source": [
    "g = lambda x,y : x**3 + y**4 + x*y - 1\n",
    "print(g(2,5))\n",
    "print(g(6,6))\n",
    "print(g(9,6))"
   ]
  },
  {
   "cell_type": "code",
   "execution_count": 30,
   "metadata": {},
   "outputs": [
    {
     "name": "stdout",
     "output_type": "stream",
     "text": [
      "5.0\n"
     ]
    }
   ],
   "source": [
    "p = lambda a,b,: (a**2 + b**2)**0.5\n",
    "print(p(3,4))"
   ]
  },
  {
   "cell_type": "markdown",
   "metadata": {},
   "source": [
    "MAP: list of data -> new list of data\n",
    "FILTER: list of data-> new list of data\n"
   ]
  },
  {
   "cell_type": "code",
   "execution_count": 2,
   "metadata": {},
   "outputs": [
    {
     "name": "stdout",
     "output_type": "stream",
     "text": [
      "[1, 27, 216, 125, 64, 729]\n"
     ]
    }
   ],
   "source": [
    "x = [1,3,6,5,4,9]\n",
    "x3 = list(map(lambda i: i**3 , x))\n",
    "print(x3)"
   ]
  },
  {
   "cell_type": "code",
   "execution_count": 20,
   "metadata": {},
   "outputs": [
    {
     "name": "stdout",
     "output_type": "stream",
     "text": [
      "[1, 12, 9, 30, 40]\n"
     ]
    }
   ],
   "source": [
    "x = [1,6,3,5,8]\n",
    "y = [1,2,3,6,5]\n",
    "xy = list(map(lambda i,j :i*j ,x,y))\n",
    "print(xy)"
   ]
  },
  {
   "cell_type": "code",
   "execution_count": 21,
   "metadata": {},
   "outputs": [
    {
     "name": "stdout",
     "output_type": "stream",
     "text": [
      "[1, 3, 5, 7, 5, 3, 3]\n"
     ]
    }
   ],
   "source": [
    "a = [1,2,3,4,5,6,7,5,2,3,3]\n",
    "b = list(filter(lambda i: i%2==1,a))\n",
    "print(b)"
   ]
  },
  {
   "cell_type": "code",
   "execution_count": 36,
   "metadata": {},
   "outputs": [],
   "source": [
    "from random import randint"
   ]
  },
  {
   "cell_type": "code",
   "execution_count": 37,
   "metadata": {},
   "outputs": [],
   "source": [
    "# generator function\n",
    "\n",
    "\n",
    "def random_range(s,e,size =10):\n",
    "    for i in range(size):\n",
    "        yield randint(s,e)\n",
    "\n",
    "\n",
    "\n"
   ]
  },
  {
   "cell_type": "code",
   "execution_count": 38,
   "metadata": {},
   "outputs": [
    {
     "data": {
      "text/plain": [
       "[9, 10, 8, 10, 1]"
      ]
     },
     "execution_count": 38,
     "metadata": {},
     "output_type": "execute_result"
    }
   ],
   "source": [
    "list(random_range(1,10,5))"
   ]
  }
 ],
 "metadata": {
  "kernelspec": {
   "display_name": "base",
   "language": "python",
   "name": "python3"
  },
  "language_info": {
   "codemirror_mode": {
    "name": "ipython",
    "version": 3
   },
   "file_extension": ".py",
   "mimetype": "text/x-python",
   "name": "python",
   "nbconvert_exporter": "python",
   "pygments_lexer": "ipython3",
   "version": "3.11.4"
  },
  "orig_nbformat": 4
 },
 "nbformat": 4,
 "nbformat_minor": 2
}
