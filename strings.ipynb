{
 "cells": [
  {
   "cell_type": "markdown",
   "metadata": {},
   "source": [
    " This is some very important topics \n",
    "\n",
    "strings\n",
    "list\n",
    "dictoniry \n"
   ]
  },
  {
   "cell_type": "markdown",
   "metadata": {},
   "source": [
    "# Strings\n",
    "- create\n",
    "- index and slice\n",
    "- method"
   ]
  },
  {
   "cell_type": "code",
   "execution_count": 4,
   "metadata": {},
   "outputs": [
    {
     "name": "stdout",
     "output_type": "stream",
     "text": [
      "<class 'str'> <class 'str'> <class 'str'>\n",
      "<class 'str'>\n"
     ]
    }
   ],
   "source": [
    "a = 'Apple'\n",
    "b = \"Banana\"\n",
    "c = '''This\n",
    "is a string\n",
    "of multiple lines'''\n",
    "print(type(a), type(b),type(c))\n",
    "\n",
    "d = str(123)# Convert value to string\n",
    "print(type(d))"
   ]
  },
  {
   "cell_type": "code",
   "execution_count": 5,
   "metadata": {},
   "outputs": [
    {
     "data": {
      "text/plain": [
       "'AppleAppleAppleAppleApple'"
      ]
     },
     "execution_count": 5,
     "metadata": {},
     "output_type": "execute_result"
    }
   ],
   "source": [
    "a * 5  # strings duplication"
   ]
  },
  {
   "cell_type": "code",
   "execution_count": 6,
   "metadata": {},
   "outputs": [
    {
     "data": {
      "text/plain": [
       "'AppleBanana'"
      ]
     },
     "execution_count": 6,
     "metadata": {},
     "output_type": "execute_result"
    }
   ],
   "source": [
    "a + b # string concatenation\n"
   ]
  },
  {
   "cell_type": "markdown",
   "metadata": {},
   "source": [
    "Index"
   ]
  },
  {
   "cell_type": "code",
   "execution_count": 7,
   "metadata": {},
   "outputs": [
    {
     "data": {
      "text/plain": [
       "'A'"
      ]
     },
     "execution_count": 7,
     "metadata": {},
     "output_type": "execute_result"
    }
   ],
   "source": [
    "a[0] "
   ]
  },
  {
   "cell_type": "code",
   "execution_count": 8,
   "metadata": {},
   "outputs": [
    {
     "data": {
      "text/plain": [
       "'App'"
      ]
     },
     "execution_count": 8,
     "metadata": {},
     "output_type": "execute_result"
    }
   ],
   "source": [
    "a[0:3]                # > a[0] a[1] a[2]"
   ]
  },
  {
   "cell_type": "code",
   "execution_count": 9,
   "metadata": {},
   "outputs": [
    {
     "name": "stdout",
     "output_type": "stream",
     "text": [
      "vijay\n",
      "deenanath\n",
      "chauhan\n",
      "vijay\n",
      "chauhan\n",
      "chauhan\n"
     ]
    }
   ],
   "source": [
    "name =\"vijay deenanath chauhan\"\n",
    "print(name[0:5])\n",
    "print(name [6:15])\n",
    "print(name[16:len (name)])\n",
    "\n",
    " # when starting index is not given , it is assumed to be 0\n",
    "print(name[0:5])\n",
    " # when ending text is not given , it is assumed to be len(name)\n",
    "\n",
    "print(name[16:])\n",
    "print(name[-7:])"
   ]
  },
  {
   "cell_type": "markdown",
   "metadata": {},
   "source": [
    "slicing syntex \n",
    "var [(start):(stop):(step)]"
   ]
  },
  {
   "cell_type": "code",
   "execution_count": 10,
   "metadata": {},
   "outputs": [
    {
     "name": "stdout",
     "output_type": "stream",
     "text": [
      "vjydeaahcahn\n",
      "ia ennt hua\n",
      "nahuahc htananeed yajiv\n"
     ]
    }
   ],
   "source": [
    "print(name[::2])\n",
    "print(name[1::2])\n",
    "# reverse string\n",
    "\n",
    "print(name[::-1])"
   ]
  },
  {
   "cell_type": "markdown",
   "metadata": {},
   "source": [
    "String method\n",
    "-  formatting method\n",
    "  - upper(), lower(), capitalize(), title(), swapcase(),\n",
    "- validation method\n",
    "  - isupper(), islower(), istitle(), isalpha(), isnumeric(), startswith(), endswith()\n",
    "- utility method\n",
    "  - split(), join(), find(), replace(), strip()"
   ]
  },
  {
   "cell_type": "code",
   "execution_count": 11,
   "metadata": {},
   "outputs": [
    {
     "name": "stdout",
     "output_type": "stream",
     "text": [
      "THIS IS PYTHON STRING\n",
      "this is python string\n",
      "This is python string\n",
      "tHIS IS python STRING\n",
      "this is python string\n",
      "This Is Python String\n",
      "This is PYTHON string\n"
     ]
    }
   ],
   "source": [
    "#formatting method\n",
    "\n",
    "msg = 'This is PYTHON string'\n",
    "print(msg.upper())\n",
    "print(msg.lower())\n",
    "print(msg.capitalize())\n",
    "print(msg.swapcase())\n",
    "print(msg.casefold())\n",
    "print(msg.title())\n",
    "print(msg)\n"
   ]
  },
  {
   "cell_type": "code",
   "execution_count": 12,
   "metadata": {},
   "outputs": [
    {
     "data": {
      "text/plain": [
       "False"
      ]
     },
     "execution_count": 12,
     "metadata": {},
     "output_type": "execute_result"
    }
   ],
   "source": [
    "\"hellow\".isupper()"
   ]
  },
  {
   "cell_type": "code",
   "execution_count": 13,
   "metadata": {},
   "outputs": [],
   "source": [
    "x = input('Enter a number:')\n",
    "print('>>>', x, '<<<')\n",
    "if x.isnumeric():\n",
    "    print('You enterd a number')\n",
    "if x.isalpha():\n",
    "    print('you entered a string')\n",
    "if x.isalnum():\n",
    "    print('you entered a alphanumeric')\n",
    "if x.islower():\n",
    "    print('you entered a lower case latter')\n",
    "    "
   ]
  },
  {
   "cell_type": "code",
   "execution_count": null,
   "metadata": {},
   "outputs": [
    {
     "name": "stdout",
     "output_type": "stream",
     "text": [
      "False\n",
      "True\n"
     ]
    }
   ],
   "source": [
    "person = \"Ms.Smith\"\n",
    "print(person.startswith(\"Mr.\"))\n",
    "print(person.startswith(\"Ms.\"))\n"
   ]
  },
  {
   "cell_type": "code",
   "execution_count": null,
   "metadata": {},
   "outputs": [
    {
     "name": "stdout",
     "output_type": "stream",
     "text": [
      "Blue\n",
      "Black\n",
      "Brown\n"
     ]
    }
   ],
   "source": [
    "colors = ['Red','Green','Blue','Black','Brown']\n",
    "for colors in colors :\n",
    "    if colors.startswith('B'):\n",
    "        print(colors)"
   ]
  },
  {
   "cell_type": "code",
   "execution_count": null,
   "metadata": {},
   "outputs": [
    {
     "name": "stdout",
     "output_type": "stream",
     "text": [
      "JPG Found>> 1.jpg\n",
      "PNG Found>> 2.png\n",
      "PNG Found>> 3.png\n",
      "PNG Found>> 4.png\n",
      "JPG Found>> 5.jpg\n"
     ]
    }
   ],
   "source": [
    "images = ['1.jpg','2.png','3.png','4.png','5.jpg']\n",
    "for img in images:\n",
    "    if img.endswith('.png'):\n",
    "        print(\"PNG Found>>\",img)\n",
    "    if img.endswith('.jpg'):\n",
    "        print(\"JPG Found>>\",img)"
   ]
  },
  {
   "cell_type": "code",
   "execution_count": null,
   "metadata": {},
   "outputs": [
    {
     "name": "stdout",
     "output_type": "stream",
     "text": [
      "Life Before Death, Strength Before Weakness, Journey Before Destination\n",
      "['Life', 'Before', 'Death,', 'Strength', 'Before', 'Weakness,', 'Journey', 'Before', 'Destination']\n",
      "['Lif', ' B', 'for', ' D', 'ath, Str', 'ngth B', 'for', ' W', 'akn', 'ss, Journ', 'y B', 'for', ' D', 'stination']\n"
     ]
    }
   ],
   "source": [
    "quote = \"Life Before Death, Strength Before Weakness, Journey Before Destination\"\n",
    "print(quote)\n",
    "print(quote.split())\n",
    "print(quote.split(\"e\"))"
   ]
  },
  {
   "cell_type": "code",
   "execution_count": null,
   "metadata": {},
   "outputs": [
    {
     "name": "stdout",
     "output_type": "stream",
     "text": [
      "['Life', 'Before', 'Death,', 'Strength', 'Before', 'Weakness,', 'Journey', 'Before', 'Destination']\n",
      "9\n"
     ]
    }
   ],
   "source": [
    "words = quote.split()\n",
    "print(words)\n",
    "print(len(words))"
   ]
  },
  {
   "cell_type": "code",
   "execution_count": null,
   "metadata": {},
   "outputs": [
    {
     "name": "stdout",
     "output_type": "stream",
     "text": [
      "Alex Alexa Alexis Alexander\n",
      "Alex,Alexa,Alexis,Alexander\n",
      "Alex---Alexa---Alexis---Alexander\n",
      "This is Akash\n"
     ]
    }
   ],
   "source": [
    "x = ['Alex','Alexa','Alexis','Alexander']\n",
    "print(\" \".join(x))\n",
    "print(\",\".join(x))\n",
    "print(\"---\".join(x))\n",
    "\n",
    "\n",
    "y= ['This','is','Akash']\n",
    "print(\" \".join(y))"
   ]
  },
  {
   "cell_type": "code",
   "execution_count": null,
   "metadata": {},
   "outputs": [
    {
     "name": "stdout",
     "output_type": "stream",
     "text": [
      "7\n",
      "30\n",
      "65\n",
      "-1\n",
      "50\n",
      "61\n"
     ]
    }
   ],
   "source": [
    "story = 'Once upon a time ,there was a king , who left his kingdom to the queen , and she ruled over it' \n",
    " \n",
    "\n",
    "print(story.find('on'))\n",
    "print(story.find('king'))\n",
    "print(story.find('queen'))\n",
    "print(story.find('prince'))\n",
    "print(story.find('king',31))   # 31 is the string index for searching\n",
    "print(story.rfind('the'))      # r find () search from thr right side"
   ]
  },
  {
   "cell_type": "code",
   "execution_count": null,
   "metadata": {},
   "outputs": [
    {
     "name": "stdout",
     "output_type": "stream",
     "text": [
      "1\n",
      "4\n",
      "0\n",
      "1\n"
     ]
    },
    {
     "data": {
      "text/plain": [
       "28"
      ]
     },
     "execution_count": 19,
     "metadata": {},
     "output_type": "execute_result"
    }
   ],
   "source": [
    "story = 'Once upon a time ,there was a king , who left his kingdom to the queen , and she ruled over it' \n",
    "\n",
    "\n",
    "print(story.count(\"queen\"))\n",
    "print(story.count(\"a\"))\n",
    "print(story.count(\"this\"))\n",
    "print(story.count(\"is\"))\n",
    "\n",
    "\n",
    "# total vowels in story\n",
    "story.count('a')+story.count('e')+story.count('i')+story.count('o')+story.count('u')\n"
   ]
  },
  {
   "cell_type": "code",
   "execution_count": null,
   "metadata": {},
   "outputs": [
    {
     "name": "stdout",
     "output_type": "stream",
     "text": [
      "Once upon a tome ,there was a kong , who left hos kongdom to the queen , and she ruled over ot\n",
      "Once upon a time ,thisre was a king , who left his kingdom to this queen , and she ruled over it\n",
      "Once upon a year ,there is a king , who leaves his kingdom to the queen , and she ruled over it\n",
      "Once upon  time ,there ws  king , who left his kingdom to the queen , nd she ruled over it\n",
      "Once upon a time ,there was a  , who left his dom to the queen , and she ruled over it\n"
     ]
    }
   ],
   "source": [
    "story1 = 'Once upon a time ,there was a king , who left his kingdom to the queen , and she ruled over it'\n",
    "\n",
    "print(story1.replace('i','o'))\n",
    "print(story1.replace('the','this'))\n",
    "print(story1.replace('time','year').replace('was','is').replace('left','leaves'))\n",
    "print(story1.replace('a',''))   # remove all q\n",
    "print(story1.replace('king',''))   #remove all king\n",
    "\n",
    "\n"
   ]
  },
  {
   "cell_type": "code",
   "execution_count": null,
   "metadata": {},
   "outputs": [
    {
     "name": "stdout",
     "output_type": "stream",
     "text": [
      "Once upon a time ,there was a queen , who left his queendom to the queen , and she ruled over it\n"
     ]
    }
   ],
   "source": [
    "story = story.replace('king','queen')\n",
    "print(story)"
   ]
  },
  {
   "cell_type": "code",
   "execution_count": null,
   "metadata": {},
   "outputs": [
    {
     "ename": "SyntaxError",
     "evalue": "invalid syntax (1734613416.py, line 2)",
     "output_type": "error",
     "traceback": [
      "\u001b[1;36m  Cell \u001b[1;32mIn[22], line 2\u001b[1;36m\u001b[0m\n\u001b[1;33m    cdata=\u001b[0m\n\u001b[1;37m           ^\u001b[0m\n\u001b[1;31mSyntaxError\u001b[0m\u001b[1;31m:\u001b[0m invalid syntax\n"
     ]
    }
   ],
   "source": [
    "data = ' hello'\n",
    "cdata= "
   ]
  },
  {
   "cell_type": "code",
   "execution_count": 1,
   "metadata": {},
   "outputs": [
    {
     "name": "stdout",
     "output_type": "stream",
     "text": [
      "\n",
      "Rs.  10000\n",
      "\n",
      "Rs.  10000\n"
     ]
    }
   ],
   "source": [
    "kachra = '''\n",
    "Rs.  10000\n",
    "'''\n",
    "print(kachra)\n",
    "print(kachra.strip())"
   ]
  },
  {
   "cell_type": "code",
   "execution_count": null,
   "metadata": {},
   "outputs": [],
   "source": [
    "images = ['1.jpg','2.jpg','3.png','4.png','5.png']\n",
    "for images in images:\n",
    "    images = images = images.removesuffix(.png).removesuffix"
   ]
  },
  {
   "cell_type": "code",
   "execution_count": null,
   "metadata": {},
   "outputs": [],
   "source": [
    "prices = ['Rs.10000','200000','8000','15000']\n",
    "for prices in prices:\n",
    "    pr = prices.removeprefix('Rs')"
   ]
  },
  {
   "cell_type": "code",
   "execution_count": null,
   "metadata": {},
   "outputs": [
    {
     "name": "stdout",
     "output_type": "stream",
     "text": [
      "idea                4\n",
      "beats               5\n",
      "Although            8\n",
      "one                 3\n",
      "never.              6\n",
      "Peters              6\n",
      "never               5\n",
      "special             7\n",
      "complicated.        12\n",
      "idea.               5\n",
      "Special             7\n",
      "--obvious           9\n",
      "Dutch.              6\n",
      "to                  2\n",
      "implementation      14\n",
      "Complex             7\n",
      "may                 3\n",
      "purity.             7\n",
      "implicit.           9\n",
      "and                 3\n",
      "not                 3\n",
      "guess.              6\n",
      "it's                4\n",
      "The                 3\n",
      "break               5\n",
      "refuse              6\n",
      "Python,             7\n",
      "great               5\n",
      "honking             7\n",
      "If                  2\n",
      "preferably          10\n",
      "Unless              6\n",
      "often               5\n",
      "face                4\n",
      "that                4\n",
      "Zen                 3\n",
      "Now                 3\n",
      "*right*             7\n",
      "aren't              6\n",
      "are                 3\n",
      "is                  2\n",
      "do                  2\n",
      "explain,            8\n",
      "pass                4\n",
      "first               5\n",
      "practicality        12\n",
      "good                4\n",
      "at                  2\n",
      "Simple              6\n",
      "silenced.           9\n",
      "only                4\n",
      "it.                 3\n",
      "complex.            8\n",
      "counts.             7\n",
      "--                  2\n",
      "dense.              6\n",
      "better              6\n",
      "temptation          10\n",
      "Flat                4\n",
      "rules.              6\n",
      "more                4\n",
      "ugly.               5\n",
      "let's               5\n",
      "obvious             7\n",
      "ambiguity,          10\n",
      "Namespaces          10\n",
      "those!              6\n",
      "explicitly          10\n",
      "bad                 3\n",
      "Explicit            8\n",
      "There               5\n",
      "be                  2\n",
      "hard                4\n",
      "way                 3\n",
      "enough              6\n",
      "by                  2\n",
      "you're              6\n",
      "Beautiful           9\n",
      "easy                4\n",
      "Errors              6\n",
      "Sparse              6\n",
      "Readability         11\n",
      "cases               5\n",
      "In                  2\n",
      "a                   1\n",
      "it                  2\n",
      "the                 3\n",
      "should              6\n",
      "one--               5\n",
      "nested.             7\n",
      "unless              6\n",
      "now.                4\n",
      "than                4\n",
      "of                  2\n",
      "silently.           9\n",
      "Tim                 3\n"
     ]
    }
   ],
   "source": [
    "content = '''The Zen of Python, by Tim Peters\n",
    "\n",
    "Beautiful is better than ugly.\n",
    "Explicit is better than implicit.\n",
    "Simple is better than complex.\n",
    "Complex is better than complicated.\n",
    "Flat is better than nested.\n",
    "Sparse is better than dense.\n",
    "Readability counts.\n",
    "Special cases aren't special enough to break the rules.\n",
    "Although practicality beats purity.\n",
    "Errors should never pass silently.\n",
    "Unless explicitly silenced.\n",
    "In the face of ambiguity, refuse the temptation to guess.\n",
    "There should be one-- and preferably only one --obvious way to do it.\n",
    "Although that way may not be obvious at first unless you're Dutch.\n",
    "Now is better than never.\n",
    "Although never is often better than *right* now.\n",
    "If the implementation is hard to explain, it's a bad idea.\n",
    "If the implementation is easy to explain, it may be a good idea.\n",
    "Namespaces are one honking great idea -- let's do more of those!'''\n",
    "\n",
    "\n",
    "\n",
    "for word in set(content.split()):\n",
    "    print(f'{word:20}{len(word)}')\n"
   ]
  },
  {
   "cell_type": "code",
   "execution_count": null,
   "metadata": {},
   "outputs": [],
   "source": []
  }
 ],
 "metadata": {
  "kernelspec": {
   "display_name": "base",
   "language": "python",
   "name": "python3"
  },
  "language_info": {
   "codemirror_mode": {
    "name": "ipython",
    "version": 3
   },
   "file_extension": ".py",
   "mimetype": "text/x-python",
   "name": "python",
   "nbconvert_exporter": "python",
   "pygments_lexer": "ipython3",
   "version": "3.11.4"
  },
  "orig_nbformat": 4
 },
 "nbformat": 4,
 "nbformat_minor": 2
}
