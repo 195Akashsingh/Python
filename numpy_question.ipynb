{
 "cells": [
  {
   "cell_type": "code",
   "execution_count": 2,
   "metadata": {},
   "outputs": [],
   "source": [
    "import numpy as np\n"
   ]
  },
  {
   "cell_type": "code",
   "execution_count": 3,
   "metadata": {},
   "outputs": [
    {
     "data": {
      "text/plain": [
       "array([0., 0., 0., 0., 0., 0., 0., 0., 0., 0.])"
      ]
     },
     "execution_count": 3,
     "metadata": {},
     "output_type": "execute_result"
    }
   ],
   "source": [
    "# 1- Write a NumPy program to create an array of 10 zeros.\n",
    "\n",
    "myarray = np.zeros (10)\n",
    "myarray\n"
   ]
  },
  {
   "cell_type": "code",
   "execution_count": 4,
   "metadata": {},
   "outputs": [
    {
     "data": {
      "text/plain": [
       "array([1., 1., 1., 1., 1., 1., 1., 1., 1., 1.])"
      ]
     },
     "execution_count": 4,
     "metadata": {},
     "output_type": "execute_result"
    }
   ],
   "source": [
    "# 2- Write a NumPy program to create an array of 10 ones\n",
    "onearray =np.ones(10)\n",
    "onearray"
   ]
  },
  {
   "cell_type": "code",
   "execution_count": 5,
   "metadata": {},
   "outputs": [
    {
     "name": "stdout",
     "output_type": "stream",
     "text": [
      "[[7 2 6]\n",
      " [6 0 5]\n",
      " [1 2 0]]\n"
     ]
    }
   ],
   "source": [
    "# 3- Write a NumPy program to create a 3x3 matrix with values ranging from 0 to 8\n",
    "\n",
    "\n",
    "matrix = np.random.randint(0,8,(3,3))\n",
    "print(matrix)"
   ]
  },
  {
   "cell_type": "code",
   "execution_count": 6,
   "metadata": {},
   "outputs": [
    {
     "name": "stdout",
     "output_type": "stream",
     "text": [
      "[4 3 2 1]\n"
     ]
    }
   ],
   "source": [
    "# 4- Write a NumPy program to reverse an array (first element becomes the last)\n",
    "\n",
    "G_array = np.array([1,2,3,4])\n",
    "reversed_array =np.flip(G_array)\n",
    "\n",
    "print(reversed_array)"
   ]
  },
  {
   "cell_type": "code",
   "execution_count": 7,
   "metadata": {},
   "outputs": [
    {
     "name": "stdout",
     "output_type": "stream",
     "text": [
      "0\n",
      "2\n",
      "4\n",
      "6\n",
      "8\n",
      "10\n",
      "12\n",
      "14\n"
     ]
    }
   ],
   "source": [
    "# 5- Write a NumPy program to extract all odd numbers from an array.\n",
    "\n",
    "array = np.arange(0,15)\n",
    "for i in array:\n",
    "    if i%2 ==0:\n",
    "        print(i)"
   ]
  },
  {
   "cell_type": "code",
   "execution_count": 8,
   "metadata": {},
   "outputs": [
    {
     "name": "stdout",
     "output_type": "stream",
     "text": [
      "[0 1 2 3 4 5 6 7 8]\n",
      "mean 4.0\n",
      "sum 36\n",
      "standard deviation 2.581988897471611\n"
     ]
    }
   ],
   "source": [
    "# 6- Write a NumPy program to compute the sum of all elements, mean, and standard deviation of a given array.\n",
    "\n",
    "array = np.arange(9)\n",
    "print(array)\n",
    "print(\"mean\",np.mean(array))\n",
    "print(\"sum\", np.sum(array))\n",
    "print(\"standard deviation\", np.std(array))"
   ]
  },
  {
   "cell_type": "code",
   "execution_count": 9,
   "metadata": {},
   "outputs": [
    {
     "name": "stdout",
     "output_type": "stream",
     "text": [
      "[[22 21 21 14 28]\n",
      " [16 21 11 29 27]\n",
      " [28 10 15 20 14]\n",
      " [18 20 27 24 25]\n",
      " [23 18 13 11 23]]\n",
      "min 10\n",
      "max 29\n"
     ]
    }
   ],
   "source": [
    "# 7- Write a NumPy program to create a 5x5 matrix with random values and find the minimum and maximum values.\n",
    "\n",
    "a = np.random.randint(10,30,(5,5))\n",
    "print(a)\n",
    "\n",
    "print(\"min\",np.min(a))\n",
    "print(\"max\",np.max(a))\n"
   ]
  },
  {
   "cell_type": "code",
   "execution_count": 10,
   "metadata": {},
   "outputs": [
    {
     "name": "stdout",
     "output_type": "stream",
     "text": [
      "[[1. 1. 1. 1. 1.]\n",
      " [1. 0. 0. 0. 1.]\n",
      " [1. 0. 0. 0. 1.]\n",
      " [1. 0. 0. 0. 1.]\n",
      " [1. 1. 1. 1. 1.]]\n"
     ]
    }
   ],
   "source": [
    "# 8- Write a NumPy program to create a 2D array with 1 on the border and 0 inside.\n",
    "\n",
    "\n",
    "pro= np.ones((5,5))\n",
    "pro[1:-1,1:-1] = 0\n",
    "print(pro)\n"
   ]
  },
  {
   "cell_type": "code",
   "execution_count": 11,
   "metadata": {},
   "outputs": [
    {
     "name": "stdout",
     "output_type": "stream",
     "text": [
      "[[ 6  3  8  4  6]\n",
      " [ 9  5 12  1  4]\n",
      " [ 3 11  4  1 14]\n",
      " [12  7  9 12  2]\n",
      " [14 13  8  8  7]]\n",
      "[[12  4  8  8  6]\n",
      " [ 4  5  3 14  7]\n",
      " [11 12  2  9  9]\n",
      " [11  6  1 13  6]\n",
      " [10  4 14  5  8]]\n",
      "\n",
      "The multiplication of two matrices [[ 72  12  64  32  36]\n",
      " [ 36  25  36  14  28]\n",
      " [ 33 132   8   9 126]\n",
      " [132  42   9 156  12]\n",
      " [140  52 112  40  56]]\n"
     ]
    }
   ],
   "source": [
    "# 9- Write a NumPy program to multiply two given matrices.\n",
    "\n",
    "array = np.random.randint(1,15,(5,5))\n",
    "array1 = np.random.randint(1,15,(5,5))\n",
    "print(array)\n",
    "print(array1)\n",
    "print()\n",
    "print(\"The multiplication of two matrices\", array * array1)"
   ]
  },
  {
   "cell_type": "code",
   "execution_count": 12,
   "metadata": {},
   "outputs": [
    {
     "name": "stdout",
     "output_type": "stream",
     "text": [
      "[ 1  2  3  4  5  6  7  8  9 11 12 13 14]\n"
     ]
    }
   ],
   "source": [
    "# 10- Write a NumPy program to find the unique elements of an array\n",
    "\n",
    "print(np.unique(array))"
   ]
  },
  {
   "cell_type": "code",
   "execution_count": 13,
   "metadata": {},
   "outputs": [
    {
     "name": "stdout",
     "output_type": "stream",
     "text": [
      "[[3 2 1 6 3]\n",
      " [1 4 7 2 7]\n",
      " [3 5 3 9 9]\n",
      " [3 9 2 3 3]\n",
      " [2 3 1 5 8]]\n",
      "[[3 1 3]\n",
      " [1 7 7]\n",
      " [3 3 9]\n",
      " [3 2 3]\n",
      " [2 1 8]]\n"
     ]
    }
   ],
   "source": [
    "# 11- Write a NumPy program to extract the elements in the odd-numbered columns of a 2D array.\n",
    "\n",
    "arr = np.random.randint(1,10,(5,5))\n",
    "print(arr)\n",
    "arr1= arr[:,0::2]\n",
    "print(arr1)\n"
   ]
  },
  {
   "cell_type": "code",
   "execution_count": 20,
   "metadata": {},
   "outputs": [
    {
     "name": "stdout",
     "output_type": "stream",
     "text": [
      "Original Array:\n",
      "[[ 1  2  3  4]\n",
      " [ 5  6  7  8]\n",
      " [ 9 10 11 12]\n",
      " [13 14 15 16]]\n",
      "\n",
      "Elements in Odd-Numbered Columns:\n",
      "[[ 2  4]\n",
      " [ 6  8]\n",
      " [10 12]\n",
      " [14 16]]\n"
     ]
    }
   ],
   "source": [
    "# 12- Write a NumPy program to extract the elements in the odd-numbered columns of a 2D array.\n",
    "\n",
    "import numpy as np\n",
    "\n",
    "\n",
    "original_array = np.array([[1, 2, 3, 4],\n",
    "                           [5, 6, 7, 8],\n",
    "                           [9, 10, 11, 12],\n",
    "                           [13, 14, 15, 16]])\n",
    "\n",
    "odd_columns = original_array[:, 1::2]\n",
    "\n",
    "print(\"Original Array:\")\n",
    "print(original_array)\n",
    "\n",
    "print(\"\\nElements in Odd-Numbered Columns:\")\n",
    "print(odd_columns)\n",
    "\n"
   ]
  },
  {
   "cell_type": "code",
   "execution_count": 19,
   "metadata": {},
   "outputs": [
    {
     "name": "stdout",
     "output_type": "stream",
     "text": [
      "Original Array:\n",
      "[[ 1  2  3  4  5]\n",
      " [ 6  7  8  9 10]\n",
      " [11 12 13 14 15]\n",
      " [16 17 18 19 20]]\n",
      "\n",
      "Subarray:\n",
      "[[ 2  3  4  5]\n",
      " [ 7  8  9 10]\n",
      " [12 13 14 15]]\n"
     ]
    }
   ],
   "source": [
    "# 13- Write a NumPy program to extract a subarray from a given array. The subarray should include the first 3 rows and the columns from index 1 to 4 (inclusive)\n",
    "\n",
    "import numpy as np\n",
    "\n",
    "\n",
    "original_array = np.array([[1, 2, 3, 4, 5],\n",
    "                           [6, 7, 8, 9, 10],\n",
    "                           [11, 12, 13, 14, 15],\n",
    "                           [16, 17, 18, 19, 20]])\n",
    "\n",
    "\n",
    "subarray = original_array[:3, 1:5]\n",
    "\n",
    "print(\"Original Array:\")\n",
    "print(original_array)\n",
    "\n",
    "print(\"\\nSubarray:\")\n",
    "print(subarray)\n",
    "\n"
   ]
  },
  {
   "cell_type": "code",
   "execution_count": 16,
   "metadata": {},
   "outputs": [
    {
     "name": "stdout",
     "output_type": "stream",
     "text": [
      "[[8 6 4 5 8]\n",
      " [8 8 5 4 8]\n",
      " [3 3 3 7 4]\n",
      " [7 4 5 3 2]\n",
      " [3 9 9 9 2]]\n",
      "[[8 5 4 6 8]\n",
      " [8 4 5 8 8]\n",
      " [4 7 3 3 3]\n",
      " [2 3 5 4 7]\n",
      " [2 9 9 9 3]]\n"
     ]
    }
   ],
   "source": [
    "# 14- Write a NumPy program to reverse the order of elements in each column of a 2D array.\n",
    "\n",
    "array6 = np.random.randint(1,10,(5,5))\n",
    "print(array6)\n",
    "array6 = array6[:,::-1]\n",
    "print(array6)"
   ]
  },
  {
   "cell_type": "code",
   "execution_count": 17,
   "metadata": {},
   "outputs": [
    {
     "name": "stdout",
     "output_type": "stream",
     "text": [
      "[1 8 5 3 6 4 2 5 1 8]\n",
      "[[ 1. 64. 25.  9. 36. 16.  4. 25.  1. 64.]\n",
      " [ 0.  8. 25.  9. 36. 16.  4. 25.  1. 64.]\n",
      " [ 0.  0.  5.  9. 36. 16.  4. 25.  1. 64.]\n",
      " [ 0.  0.  0.  3. 36. 16.  4. 25.  1. 64.]\n",
      " [ 0.  0.  0.  0.  6. 16.  4. 25.  1. 64.]\n",
      " [ 0.  0.  0.  0.  0.  4.  4. 25.  1. 64.]\n",
      " [ 0.  0.  0.  0.  0.  0.  2. 25.  1. 64.]\n",
      " [ 0.  0.  0.  0.  0.  0.  0.  5.  1. 64.]\n",
      " [ 0.  0.  0.  0.  0.  0.  0.  0.  1. 64.]\n",
      " [ 0.  0.  0.  0.  0.  0.  0.  0.  0.  8.]]\n"
     ]
    }
   ],
   "source": [
    "# 15- Write a NumPy program to create a diagonal matrix from a given 1D array. The elements below the diagonal should be zero, and the elements above the diagonal should be square\n",
    "\n",
    "var1 = np.random.randint(1,10,(10))\n",
    "print(var1)\n",
    "var1_len = len(var1)\n",
    "diag = np.zeros((var1_len, var1_len))\n",
    "\n",
    "for i in range(var1_len):\n",
    "    for j in range(var1_len):\n",
    "        if i == j:\n",
    "            diag[i,j] = var1[i]\n",
    "        if i < j:\n",
    "            diag[i, j] = var1[j] ** 2\n",
    "print(diag)\n"
   ]
  },
  {
   "cell_type": "code",
   "execution_count": null,
   "metadata": {},
   "outputs": [],
   "source": []
  },
  {
   "cell_type": "code",
   "execution_count": 18,
   "metadata": {},
   "outputs": [
    {
     "data": {
      "text/plain": [
       "array([[1, 0, 0, 0],\n",
       "       [0, 2, 0, 0],\n",
       "       [0, 0, 3, 0],\n",
       "       [0, 0, 0, 4]])"
      ]
     },
     "execution_count": 18,
     "metadata": {},
     "output_type": "execute_result"
    }
   ],
   "source": [
    "#15\n",
    "\n",
    "np.diag([1,2,3,4])\n"
   ]
  }
 ],
 "metadata": {
  "kernelspec": {
   "display_name": "base",
   "language": "python",
   "name": "python3"
  },
  "language_info": {
   "codemirror_mode": {
    "name": "ipython",
    "version": 3
   },
   "file_extension": ".py",
   "mimetype": "text/x-python",
   "name": "python",
   "nbconvert_exporter": "python",
   "pygments_lexer": "ipython3",
   "version": "3.11.4"
  },
  "orig_nbformat": 4
 },
 "nbformat": 4,
 "nbformat_minor": 2
}
