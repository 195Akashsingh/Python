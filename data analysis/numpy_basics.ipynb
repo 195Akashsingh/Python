{
 "cells": [
  {
   "cell_type": "markdown",
   "metadata": {},
   "source": [
    "Imorting"
   ]
  },
  {
   "cell_type": "code",
   "execution_count": 32,
   "metadata": {},
   "outputs": [],
   "source": [
    "import numpy as np"
   ]
  },
  {
   "cell_type": "code",
   "execution_count": 45,
   "metadata": {},
   "outputs": [],
   "source": [
    "# set pecision\n",
    "np.set_printoptions(precision=2)"
   ]
  },
  {
   "cell_type": "markdown",
   "metadata": {},
   "source": [
    "Creaing matrix"
   ]
  },
  {
   "cell_type": "code",
   "execution_count": 34,
   "metadata": {},
   "outputs": [
    {
     "name": "stdout",
     "output_type": "stream",
     "text": [
      "[2 5 6]\n",
      "(3,)\n",
      "int32\n"
     ]
    }
   ],
   "source": [
    "a = np.array([2,5,6])\n",
    "print(a)\n",
    "print(a.shape)\n",
    "print(a.dtype)"
   ]
  },
  {
   "cell_type": "code",
   "execution_count": 35,
   "metadata": {},
   "outputs": [
    {
     "name": "stdout",
     "output_type": "stream",
     "text": [
      "[[1 2 3]\n",
      " [4 5 6]]\n",
      "(2, 3)\n",
      "2\n"
     ]
    }
   ],
   "source": [
    "b = np.array([[1,2,3],[4,5,6]])\n",
    "print(b)\n",
    "print(b.shape)\n",
    "print(b.ndim)"
   ]
  },
  {
   "cell_type": "code",
   "execution_count": 36,
   "metadata": {},
   "outputs": [
    {
     "name": "stdout",
     "output_type": "stream",
     "text": [
      "[[[1 2]\n",
      "  [2 3]\n",
      "  [3 1]]\n",
      "\n",
      " [[1 2]\n",
      "  [3 1]\n",
      "  [3 4]]]\n",
      "(2, 3, 2)\n",
      "3\n"
     ]
    }
   ],
   "source": [
    "c = np.array([[[1,2],[2,3],[3,1]],[[1,2],[3,1],[3,4]]])\n",
    "print(c)\n",
    "print(c.shape)\n",
    "print(c.ndim)"
   ]
  },
  {
   "cell_type": "code",
   "execution_count": 37,
   "metadata": {},
   "outputs": [
    {
     "name": "stdout",
     "output_type": "stream",
     "text": [
      "[[[[1 2]\n",
      "   [2 3]\n",
      "   [5 6]\n",
      "   [5 6]\n",
      "   [6 7]\n",
      "   [1 2]]]]\n",
      "4\n",
      "(1, 1, 6, 2)\n"
     ]
    }
   ],
   "source": [
    "d = np.array([[[[1,2],[2,3],[5,6],[5,6],[6,7],[1,2]]]])\n",
    "print(d)\n",
    "print(d.ndim)\n",
    "print(d.shape)"
   ]
  },
  {
   "cell_type": "markdown",
   "metadata": {},
   "source": [
    " - generate matrix\n",
    "  - linear\n",
    "     -gap based\n",
    "     \n",
    "  - random"
   ]
  },
  {
   "cell_type": "code",
   "execution_count": 38,
   "metadata": {},
   "outputs": [
    {
     "data": {
      "text/plain": [
       "array([ 1,  6, 11, 16, 21, 26, 31, 36, 41, 46, 51, 56, 61, 66, 71, 76, 81,\n",
       "       86, 91, 96])"
      ]
     },
     "execution_count": 38,
     "metadata": {},
     "output_type": "execute_result"
    }
   ],
   "source": [
    "# linear\n",
    "\n",
    "np.arange(1,100,5)"
   ]
  },
  {
   "cell_type": "code",
   "execution_count": 39,
   "metadata": {},
   "outputs": [
    {
     "name": "stdout",
     "output_type": "stream",
     "text": [
      "(450,)\n"
     ]
    }
   ],
   "source": [
    "a = np.arange(1,10,.02)\n",
    "print(a.shape)"
   ]
  },
  {
   "cell_type": "code",
   "execution_count": 48,
   "metadata": {},
   "outputs": [
    {
     "name": "stdout",
     "output_type": "stream",
     "text": [
      "[-3.14 -2.89 -2.64 -2.39 -2.14 -1.89 -1.64 -1.39 -1.14 -0.89 -0.64 -0.39\n",
      " -0.14  0.11  0.36  0.61  0.86  1.11  1.36  1.61  1.86  2.11  2.36  2.61\n",
      "  2.86  3.11]\n"
     ]
    },
    {
     "data": {
      "text/plain": [
       "26"
      ]
     },
     "execution_count": 48,
     "metadata": {},
     "output_type": "execute_result"
    }
   ],
   "source": [
    "b = np.arange(-np.pi,np.pi,.25)\n",
    "print(b)\n",
    "b.size"
   ]
  },
  {
   "cell_type": "code",
   "execution_count": 49,
   "metadata": {},
   "outputs": [
    {
     "name": "stdout",
     "output_type": "stream",
     "text": [
      "[ 1.    1.09  1.18  1.27  1.36  1.45  1.55  1.64  1.73  1.82  1.91  2.\n",
      "  2.09  2.18  2.27  2.36  2.45  2.55  2.64  2.73  2.82  2.91  3.    3.09\n",
      "  3.18  3.27  3.36  3.45  3.55  3.64  3.73  3.82  3.91  4.    4.09  4.18\n",
      "  4.27  4.36  4.45  4.55  4.64  4.73  4.82  4.91  5.    5.09  5.18  5.27\n",
      "  5.36  5.45  5.55  5.64  5.73  5.82  5.91  6.    6.09  6.18  6.27  6.36\n",
      "  6.45  6.55  6.64  6.73  6.82  6.91  7.    7.09  7.18  7.27  7.36  7.45\n",
      "  7.55  7.64  7.73  7.82  7.91  8.    8.09  8.18  8.27  8.36  8.45  8.55\n",
      "  8.64  8.73  8.82  8.91  9.    9.09  9.18  9.27  9.36  9.45  9.55  9.64\n",
      "  9.73  9.82  9.91 10.  ]\n"
     ]
    }
   ],
   "source": [
    "b = np.linspace(1,10,100)\n",
    "print(b)"
   ]
  },
  {
   "cell_type": "code",
   "execution_count": 50,
   "metadata": {},
   "outputs": [
    {
     "data": {
      "text/plain": [
       "array([[ 1.  ,  1.09,  1.18,  1.27],\n",
       "       [ 1.36,  1.45,  1.55,  1.64],\n",
       "       [ 1.73,  1.82,  1.91,  2.  ],\n",
       "       [ 2.09,  2.18,  2.27,  2.36],\n",
       "       [ 2.45,  2.55,  2.64,  2.73],\n",
       "       [ 2.82,  2.91,  3.  ,  3.09],\n",
       "       [ 3.18,  3.27,  3.36,  3.45],\n",
       "       [ 3.55,  3.64,  3.73,  3.82],\n",
       "       [ 3.91,  4.  ,  4.09,  4.18],\n",
       "       [ 4.27,  4.36,  4.45,  4.55],\n",
       "       [ 4.64,  4.73,  4.82,  4.91],\n",
       "       [ 5.  ,  5.09,  5.18,  5.27],\n",
       "       [ 5.36,  5.45,  5.55,  5.64],\n",
       "       [ 5.73,  5.82,  5.91,  6.  ],\n",
       "       [ 6.09,  6.18,  6.27,  6.36],\n",
       "       [ 6.45,  6.55,  6.64,  6.73],\n",
       "       [ 6.82,  6.91,  7.  ,  7.09],\n",
       "       [ 7.18,  7.27,  7.36,  7.45],\n",
       "       [ 7.55,  7.64,  7.73,  7.82],\n",
       "       [ 7.91,  8.  ,  8.09,  8.18],\n",
       "       [ 8.27,  8.36,  8.45,  8.55],\n",
       "       [ 8.64,  8.73,  8.82,  8.91],\n",
       "       [ 9.  ,  9.09,  9.18,  9.27],\n",
       "       [ 9.36,  9.45,  9.55,  9.64],\n",
       "       [ 9.73,  9.82,  9.91, 10.  ]])"
      ]
     },
     "execution_count": 50,
     "metadata": {},
     "output_type": "execute_result"
    }
   ],
   "source": [
    "# 1d change into 2d\n",
    "\n",
    "b.reshape(25,4)"
   ]
  },
  {
   "cell_type": "code",
   "execution_count": 51,
   "metadata": {},
   "outputs": [
    {
     "data": {
      "text/plain": [
       "array([[[ 1.  ,  1.09,  1.18,  1.27],\n",
       "        [ 1.36,  1.45,  1.55,  1.64],\n",
       "        [ 1.73,  1.82,  1.91,  2.  ],\n",
       "        [ 2.09,  2.18,  2.27,  2.36],\n",
       "        [ 2.45,  2.55,  2.64,  2.73]],\n",
       "\n",
       "       [[ 2.82,  2.91,  3.  ,  3.09],\n",
       "        [ 3.18,  3.27,  3.36,  3.45],\n",
       "        [ 3.55,  3.64,  3.73,  3.82],\n",
       "        [ 3.91,  4.  ,  4.09,  4.18],\n",
       "        [ 4.27,  4.36,  4.45,  4.55]],\n",
       "\n",
       "       [[ 4.64,  4.73,  4.82,  4.91],\n",
       "        [ 5.  ,  5.09,  5.18,  5.27],\n",
       "        [ 5.36,  5.45,  5.55,  5.64],\n",
       "        [ 5.73,  5.82,  5.91,  6.  ],\n",
       "        [ 6.09,  6.18,  6.27,  6.36]],\n",
       "\n",
       "       [[ 6.45,  6.55,  6.64,  6.73],\n",
       "        [ 6.82,  6.91,  7.  ,  7.09],\n",
       "        [ 7.18,  7.27,  7.36,  7.45],\n",
       "        [ 7.55,  7.64,  7.73,  7.82],\n",
       "        [ 7.91,  8.  ,  8.09,  8.18]],\n",
       "\n",
       "       [[ 8.27,  8.36,  8.45,  8.55],\n",
       "        [ 8.64,  8.73,  8.82,  8.91],\n",
       "        [ 9.  ,  9.09,  9.18,  9.27],\n",
       "        [ 9.36,  9.45,  9.55,  9.64],\n",
       "        [ 9.73,  9.82,  9.91, 10.  ]]])"
      ]
     },
     "execution_count": 51,
     "metadata": {},
     "output_type": "execute_result"
    }
   ],
   "source": [
    "# change into 3d\n",
    "\n",
    "b.reshape(5,5,4)"
   ]
  },
  {
   "cell_type": "code",
   "execution_count": 52,
   "metadata": {},
   "outputs": [
    {
     "name": "stdout",
     "output_type": "stream",
     "text": [
      "[[0.05 0.11 0.47 0.3  0.66]\n",
      " [0.41 0.74 0.69 0.49 0.41]\n",
      " [0.36 0.66 0.68 0.46 0.7 ]\n",
      " [0.44 0.24 0.85 0.36 0.56]\n",
      " [0.86 0.64 0.4  0.83 0.35]]\n"
     ]
    }
   ],
   "source": [
    "print(np.random.rand(5,5))"
   ]
  },
  {
   "cell_type": "code",
   "execution_count": 53,
   "metadata": {},
   "outputs": [
    {
     "name": "stdout",
     "output_type": "stream",
     "text": [
      "[[ 51 144 141  56 172 116 112  58]\n",
      " [163 104 116 198 143 148  52  49]\n",
      " [ 90 153 196  80   2  40 141 167]\n",
      " [103 136 108 171 113 186  15 163]\n",
      " [  3 193  79 173  27  98 157  23]]\n"
     ]
    }
   ],
   "source": [
    "# used\n",
    "\n",
    "print(np.random.randint(1,200,(5,8)))"
   ]
  },
  {
   "cell_type": "code",
   "execution_count": 57,
   "metadata": {},
   "outputs": [
    {
     "name": "stdout",
     "output_type": "stream",
     "text": [
      "[[3 4 4]\n",
      " [8 1 4]\n",
      " [9 2 3]]\n",
      "[[5 9 9]\n",
      " [6 1 1]\n",
      " [8 8 7]]\n"
     ]
    }
   ],
   "source": [
    "x = np.random.randint(1,10,(3,3))\n",
    "y = np.random.randint(1,10,(3,3))\n",
    "print(x)\n",
    "print(y)"
   ]
  },
  {
   "cell_type": "code",
   "execution_count": 58,
   "metadata": {},
   "outputs": [
    {
     "data": {
      "text/plain": [
       "array([[ 8, 13, 13],\n",
       "       [14,  2,  5],\n",
       "       [17, 10, 10]])"
      ]
     },
     "execution_count": 58,
     "metadata": {},
     "output_type": "execute_result"
    }
   ],
   "source": [
    "x+y"
   ]
  },
  {
   "cell_type": "code",
   "execution_count": 61,
   "metadata": {},
   "outputs": [
    {
     "data": {
      "text/plain": [
       "array([[-7, -6, -6],\n",
       "       [-2, -9, -6],\n",
       "       [-1, -8, -7]])"
      ]
     },
     "execution_count": 61,
     "metadata": {},
     "output_type": "execute_result"
    }
   ],
   "source": [
    "x - 10\n",
    "#slice\n",
    "#filtering"
   ]
  },
  {
   "cell_type": "code",
   "execution_count": 62,
   "metadata": {},
   "outputs": [
    {
     "data": {
      "text/plain": [
       "array([[15, 36, 36],\n",
       "       [48,  1,  4],\n",
       "       [72, 16, 21]])"
      ]
     },
     "execution_count": 62,
     "metadata": {},
     "output_type": "execute_result"
    }
   ],
   "source": [
    "x*y"
   ]
  }
 ],
 "metadata": {
  "kernelspec": {
   "display_name": "base",
   "language": "python",
   "name": "python3"
  },
  "language_info": {
   "codemirror_mode": {
    "name": "ipython",
    "version": 3
   },
   "file_extension": ".py",
   "mimetype": "text/x-python",
   "name": "python",
   "nbconvert_exporter": "python",
   "pygments_lexer": "ipython3",
   "version": "3.11.4"
  },
  "orig_nbformat": 4
 },
 "nbformat": 4,
 "nbformat_minor": 2
}
